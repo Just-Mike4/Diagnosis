{
 "cells": [
  {
   "cell_type": "code",
   "execution_count": 27,
   "id": "51e8268c",
   "metadata": {},
   "outputs": [],
   "source": [
    "import numpy as np\n",
    "import pandas as pd\n",
    "import keras\n",
    "from keras.models import Sequential\n",
    "from keras.layers import Dense, Dropout, Activation\n",
    "from keras.optimizers import SGD\n",
    "from sklearn.model_selection import train_test_split\n",
    "import tensorflow as tf"
   ]
  },
  {
   "cell_type": "code",
   "execution_count": 28,
   "id": "c205554d",
   "metadata": {},
   "outputs": [],
   "source": [
    "data=pd.read_csv(r'C:\\Users\\USER\\final covid malaria.csv')"
   ]
  },
  {
   "cell_type": "code",
   "execution_count": 29,
   "id": "6452ac83",
   "metadata": {
    "scrolled": true
   },
   "outputs": [
    {
     "data": {
      "text/html": [
       "<div>\n",
       "<style scoped>\n",
       "    .dataframe tbody tr th:only-of-type {\n",
       "        vertical-align: middle;\n",
       "    }\n",
       "\n",
       "    .dataframe tbody tr th {\n",
       "        vertical-align: top;\n",
       "    }\n",
       "\n",
       "    .dataframe thead th {\n",
       "        text-align: right;\n",
       "    }\n",
       "</style>\n",
       "<table border=\"1\" class=\"dataframe\">\n",
       "  <thead>\n",
       "    <tr style=\"text-align: right;\">\n",
       "      <th></th>\n",
       "      <th>Time (hours)</th>\n",
       "      <th>Symptom 1</th>\n",
       "      <th>Symptom 2</th>\n",
       "      <th>Symptom 3</th>\n",
       "      <th>Symptom 4</th>\n",
       "      <th>Symptom 5</th>\n",
       "      <th>Symptom 6</th>\n",
       "      <th>Symptom 7</th>\n",
       "      <th>Symptom 8</th>\n",
       "      <th>Symptom 9</th>\n",
       "      <th>Symptom 10</th>\n",
       "      <th>Symptom 11</th>\n",
       "      <th>Symptom 12</th>\n",
       "      <th>Symptom 13</th>\n",
       "      <th>Diagnosis</th>\n",
       "    </tr>\n",
       "  </thead>\n",
       "  <tbody>\n",
       "    <tr>\n",
       "      <th>0</th>\n",
       "      <td>48.0</td>\n",
       "      <td>FEVER</td>\n",
       "      <td>SHIVERING</td>\n",
       "      <td>GENERAL FEELING OF DISCOMFORT</td>\n",
       "      <td>HEADACHE</td>\n",
       "      <td>NAUSEA</td>\n",
       "      <td>VOMITING</td>\n",
       "      <td>DIARRHEA</td>\n",
       "      <td>ABDOMINAL PAIN</td>\n",
       "      <td>MUSCLE OR JOINT PAIN</td>\n",
       "      <td>FATIGUE</td>\n",
       "      <td>RAPID BREATHING</td>\n",
       "      <td>RAPID HEART RATE</td>\n",
       "      <td>COUGH</td>\n",
       "      <td>MALARIA</td>\n",
       "    </tr>\n",
       "    <tr>\n",
       "      <th>1</th>\n",
       "      <td>48.0</td>\n",
       "      <td>FEVER</td>\n",
       "      <td>HEADACHE</td>\n",
       "      <td>CHILLS</td>\n",
       "      <td>SWEATING</td>\n",
       "      <td>FATIGUE</td>\n",
       "      <td>NAUSEA</td>\n",
       "      <td>VOMTING</td>\n",
       "      <td>BODY ACHES</td>\n",
       "      <td>GENERALLY FEELING SICK</td>\n",
       "      <td></td>\n",
       "      <td></td>\n",
       "      <td></td>\n",
       "      <td></td>\n",
       "      <td>MALARIA</td>\n",
       "    </tr>\n",
       "    <tr>\n",
       "      <th>2</th>\n",
       "      <td>24.0</td>\n",
       "      <td>FEVER</td>\n",
       "      <td>CHILLS</td>\n",
       "      <td>SWEATS</td>\n",
       "      <td>HEADACHE</td>\n",
       "      <td>NAUSEA</td>\n",
       "      <td>VOMITING</td>\n",
       "      <td>BODY PAIN</td>\n",
       "      <td>GENERAL DISCOMFORT</td>\n",
       "      <td></td>\n",
       "      <td></td>\n",
       "      <td></td>\n",
       "      <td></td>\n",
       "      <td></td>\n",
       "      <td>MALARIA</td>\n",
       "    </tr>\n",
       "    <tr>\n",
       "      <th>3</th>\n",
       "      <td>12.0</td>\n",
       "      <td>FEVER</td>\n",
       "      <td>CHILLS</td>\n",
       "      <td>NAUSEA</td>\n",
       "      <td>VOMITING</td>\n",
       "      <td>SWEATING</td>\n",
       "      <td>HEADACHES</td>\n",
       "      <td>WEAKNESS</td>\n",
       "      <td>A GENERAL FEELING OF BEING UNWELL</td>\n",
       "      <td></td>\n",
       "      <td></td>\n",
       "      <td></td>\n",
       "      <td></td>\n",
       "      <td></td>\n",
       "      <td>MALARIA</td>\n",
       "    </tr>\n",
       "    <tr>\n",
       "      <th>4</th>\n",
       "      <td>48.0</td>\n",
       "      <td>POOR APPETITE</td>\n",
       "      <td>CHILLS</td>\n",
       "      <td>FEVER</td>\n",
       "      <td>HIGH TEMPERATURE</td>\n",
       "      <td>SWEATING</td>\n",
       "      <td>NAUSEA</td>\n",
       "      <td>HEADACHE</td>\n",
       "      <td>BODY PAIN</td>\n",
       "      <td></td>\n",
       "      <td></td>\n",
       "      <td></td>\n",
       "      <td></td>\n",
       "      <td></td>\n",
       "      <td>MALARIA</td>\n",
       "    </tr>\n",
       "    <tr>\n",
       "      <th>...</th>\n",
       "      <td>...</td>\n",
       "      <td>...</td>\n",
       "      <td>...</td>\n",
       "      <td>...</td>\n",
       "      <td>...</td>\n",
       "      <td>...</td>\n",
       "      <td>...</td>\n",
       "      <td>...</td>\n",
       "      <td>...</td>\n",
       "      <td>...</td>\n",
       "      <td>...</td>\n",
       "      <td>...</td>\n",
       "      <td>...</td>\n",
       "      <td>...</td>\n",
       "      <td>...</td>\n",
       "    </tr>\n",
       "    <tr>\n",
       "      <th>195</th>\n",
       "      <td>264.0</td>\n",
       "      <td>DIFFICULTY BREATHING</td>\n",
       "      <td>COUGH</td>\n",
       "      <td>VOMITING</td>\n",
       "      <td>RUNNY NOSE</td>\n",
       "      <td>SORE THROAT</td>\n",
       "      <td>DIARRHEA</td>\n",
       "      <td>BODY ACHES</td>\n",
       "      <td>FATIGUE</td>\n",
       "      <td>HEADACHE</td>\n",
       "      <td>NEW LOSS OF TASTE</td>\n",
       "      <td>FEVER</td>\n",
       "      <td>NaN</td>\n",
       "      <td>NaN</td>\n",
       "      <td>COVID</td>\n",
       "    </tr>\n",
       "    <tr>\n",
       "      <th>196</th>\n",
       "      <td>48.0</td>\n",
       "      <td>FEVER</td>\n",
       "      <td>COUGH</td>\n",
       "      <td>DIARRHEA</td>\n",
       "      <td>FATIGUE</td>\n",
       "      <td>NEW LOSS OF TASTE</td>\n",
       "      <td>BODY ACHES</td>\n",
       "      <td>DIFFICULTY BREATHING</td>\n",
       "      <td>SORE THROAT</td>\n",
       "      <td>VOMITING</td>\n",
       "      <td>HEADACHE</td>\n",
       "      <td>RUNNY NOSE</td>\n",
       "      <td>NaN</td>\n",
       "      <td>NaN</td>\n",
       "      <td>COVID</td>\n",
       "    </tr>\n",
       "    <tr>\n",
       "      <th>197</th>\n",
       "      <td>312.0</td>\n",
       "      <td>SORE THROAT</td>\n",
       "      <td>VOMITING</td>\n",
       "      <td>FEVER</td>\n",
       "      <td>COUGH</td>\n",
       "      <td>BODY ACHES</td>\n",
       "      <td>DIARRHEA</td>\n",
       "      <td>HEADACHE</td>\n",
       "      <td>RUNNY NOSE</td>\n",
       "      <td>DIFFICULTY BREATHING</td>\n",
       "      <td>NEW LOSS OF TASTE</td>\n",
       "      <td>FATIGUE</td>\n",
       "      <td>NaN</td>\n",
       "      <td>NaN</td>\n",
       "      <td>COVID</td>\n",
       "    </tr>\n",
       "    <tr>\n",
       "      <th>198</th>\n",
       "      <td>168.0</td>\n",
       "      <td>FEVER</td>\n",
       "      <td>RUNNY NOSE</td>\n",
       "      <td>DIFFICULTY BREATHING</td>\n",
       "      <td>FATIGUE</td>\n",
       "      <td>SORE THROAT</td>\n",
       "      <td>DIARRHEA</td>\n",
       "      <td>COUGH</td>\n",
       "      <td>HEADACHE</td>\n",
       "      <td>BODY ACHES</td>\n",
       "      <td>NEW LOSS OF TASTE</td>\n",
       "      <td>VOMITING</td>\n",
       "      <td>NaN</td>\n",
       "      <td>NaN</td>\n",
       "      <td>COVID</td>\n",
       "    </tr>\n",
       "    <tr>\n",
       "      <th>199</th>\n",
       "      <td>216.0</td>\n",
       "      <td>COUGH</td>\n",
       "      <td>FATIGUE</td>\n",
       "      <td>SORE THROAT</td>\n",
       "      <td>NEW LOSS OF TASTE</td>\n",
       "      <td>BODY ACHES</td>\n",
       "      <td>DIFFICULTY BREATHING</td>\n",
       "      <td>RUNNY NOSE</td>\n",
       "      <td>FEVER</td>\n",
       "      <td>DIARRHEA</td>\n",
       "      <td>VOMITING</td>\n",
       "      <td>HEADACHE</td>\n",
       "      <td>NaN</td>\n",
       "      <td>NaN</td>\n",
       "      <td>COVID</td>\n",
       "    </tr>\n",
       "  </tbody>\n",
       "</table>\n",
       "<p>200 rows × 15 columns</p>\n",
       "</div>"
      ],
      "text/plain": [
       "     Time (hours)             Symptom 1   Symptom 2  \\\n",
       "0            48.0                 FEVER   SHIVERING   \n",
       "1            48.0                 FEVER    HEADACHE   \n",
       "2            24.0                 FEVER      CHILLS   \n",
       "3            12.0                 FEVER      CHILLS   \n",
       "4            48.0         POOR APPETITE      CHILLS   \n",
       "..            ...                   ...         ...   \n",
       "195         264.0  DIFFICULTY BREATHING       COUGH   \n",
       "196          48.0                 FEVER       COUGH   \n",
       "197         312.0           SORE THROAT    VOMITING   \n",
       "198         168.0                 FEVER  RUNNY NOSE   \n",
       "199         216.0                 COUGH     FATIGUE   \n",
       "\n",
       "                         Symptom 3          Symptom 4          Symptom 5  \\\n",
       "0    GENERAL FEELING OF DISCOMFORT           HEADACHE             NAUSEA   \n",
       "1                           CHILLS           SWEATING            FATIGUE   \n",
       "2                           SWEATS           HEADACHE             NAUSEA   \n",
       "3                           NAUSEA           VOMITING           SWEATING   \n",
       "4                            FEVER   HIGH TEMPERATURE           SWEATING   \n",
       "..                             ...                ...                ...   \n",
       "195                       VOMITING         RUNNY NOSE        SORE THROAT   \n",
       "196                       DIARRHEA            FATIGUE  NEW LOSS OF TASTE   \n",
       "197                          FEVER              COUGH         BODY ACHES   \n",
       "198           DIFFICULTY BREATHING            FATIGUE        SORE THROAT   \n",
       "199                    SORE THROAT  NEW LOSS OF TASTE         BODY ACHES   \n",
       "\n",
       "                Symptom 6             Symptom 7  \\\n",
       "0                VOMITING              DIARRHEA   \n",
       "1                  NAUSEA               VOMTING   \n",
       "2                VOMITING             BODY PAIN   \n",
       "3               HEADACHES              WEAKNESS   \n",
       "4                  NAUSEA              HEADACHE   \n",
       "..                    ...                   ...   \n",
       "195              DIARRHEA            BODY ACHES   \n",
       "196            BODY ACHES  DIFFICULTY BREATHING   \n",
       "197              DIARRHEA              HEADACHE   \n",
       "198              DIARRHEA                 COUGH   \n",
       "199  DIFFICULTY BREATHING            RUNNY NOSE   \n",
       "\n",
       "                             Symptom 8               Symptom 9  \\\n",
       "0                       ABDOMINAL PAIN    MUSCLE OR JOINT PAIN   \n",
       "1                           BODY ACHES  GENERALLY FEELING SICK   \n",
       "2                   GENERAL DISCOMFORT                           \n",
       "3    A GENERAL FEELING OF BEING UNWELL                           \n",
       "4                            BODY PAIN                           \n",
       "..                                 ...                     ...   \n",
       "195                            FATIGUE                HEADACHE   \n",
       "196                        SORE THROAT                VOMITING   \n",
       "197                         RUNNY NOSE    DIFFICULTY BREATHING   \n",
       "198                           HEADACHE              BODY ACHES   \n",
       "199                              FEVER                DIARRHEA   \n",
       "\n",
       "            Symptom 10       Symptom 11        Symptom 12 Symptom 13 Diagnosis  \n",
       "0              FATIGUE  RAPID BREATHING  RAPID HEART RATE      COUGH   MALARIA  \n",
       "1                                                                      MALARIA  \n",
       "2                                                                      MALARIA  \n",
       "3                                                                      MALARIA  \n",
       "4                                                                      MALARIA  \n",
       "..                 ...              ...               ...        ...       ...  \n",
       "195  NEW LOSS OF TASTE            FEVER               NaN        NaN     COVID  \n",
       "196           HEADACHE       RUNNY NOSE               NaN        NaN     COVID  \n",
       "197  NEW LOSS OF TASTE          FATIGUE               NaN        NaN     COVID  \n",
       "198  NEW LOSS OF TASTE         VOMITING               NaN        NaN     COVID  \n",
       "199           VOMITING         HEADACHE               NaN        NaN     COVID  \n",
       "\n",
       "[200 rows x 15 columns]"
      ]
     },
     "execution_count": 29,
     "metadata": {},
     "output_type": "execute_result"
    }
   ],
   "source": [
    "data"
   ]
  },
  {
   "cell_type": "code",
   "execution_count": 30,
   "id": "f2eb122d",
   "metadata": {},
   "outputs": [],
   "source": [
    "data=data.replace(np.nan,' ')"
   ]
  },
  {
   "cell_type": "code",
   "execution_count": 31,
   "id": "2ae57f63",
   "metadata": {},
   "outputs": [
    {
     "data": {
      "text/plain": [
       "Index(['Time (hours)', 'Symptom 1', 'Symptom 2', 'Symptom 3', 'Symptom 4',\n",
       "       'Symptom 5', 'Symptom 6', 'Symptom 7', 'Symptom 8', 'Symptom 9',\n",
       "       'Symptom 10', 'Symptom 11', 'Symptom 12', 'Symptom 13', 'Diagnosis'],\n",
       "      dtype='object')"
      ]
     },
     "execution_count": 31,
     "metadata": {},
     "output_type": "execute_result"
    }
   ],
   "source": [
    "data.columns"
   ]
  },
  {
   "cell_type": "code",
   "execution_count": 32,
   "id": "0e7618ec",
   "metadata": {},
   "outputs": [],
   "source": [
    "data['Symptoms']= data['Symptom 1']+','+data['Symptom 2']+','+data['Symptom 3']+','+data['Symptom 4']+','+data['Symptom 5']+','+data['Symptom 6']+','+data['Symptom 7']+','+data['Symptom 8']+','+data['Symptom 9']+','+data['Symptom 10']+','+data['Symptom 11']+','+data['Symptom 12']+','+data['Symptom 13']"
   ]
  },
  {
   "cell_type": "code",
   "execution_count": 33,
   "id": "a4ea36aa",
   "metadata": {},
   "outputs": [],
   "source": [
    "data=data.drop(['Symptom 1', 'Symptom 2', 'Symptom 3', 'Symptom 4',\n",
    "       'Symptom 5', 'Symptom 6', 'Symptom 7', 'Symptom 8', 'Symptom 9',\n",
    "       'Symptom 10', 'Symptom 11', 'Symptom 12', 'Symptom 13'],axis=1)"
   ]
  },
  {
   "cell_type": "code",
   "execution_count": 34,
   "id": "f47afc49",
   "metadata": {},
   "outputs": [
    {
     "data": {
      "text/plain": [
       "Index(['Time (hours)', 'Diagnosis', 'Symptoms'], dtype='object')"
      ]
     },
     "execution_count": 34,
     "metadata": {},
     "output_type": "execute_result"
    }
   ],
   "source": [
    "data.columns"
   ]
  },
  {
   "cell_type": "code",
   "execution_count": 38,
   "id": "cf156da3",
   "metadata": {},
   "outputs": [],
   "source": [
    "data=data.reindex(columns=['Time (hours)', 'Symptoms','Diagnosis'])"
   ]
  },
  {
   "cell_type": "code",
   "execution_count": 39,
   "id": "a8f6a877",
   "metadata": {},
   "outputs": [
    {
     "data": {
      "text/html": [
       "<div>\n",
       "<style scoped>\n",
       "    .dataframe tbody tr th:only-of-type {\n",
       "        vertical-align: middle;\n",
       "    }\n",
       "\n",
       "    .dataframe tbody tr th {\n",
       "        vertical-align: top;\n",
       "    }\n",
       "\n",
       "    .dataframe thead th {\n",
       "        text-align: right;\n",
       "    }\n",
       "</style>\n",
       "<table border=\"1\" class=\"dataframe\">\n",
       "  <thead>\n",
       "    <tr style=\"text-align: right;\">\n",
       "      <th></th>\n",
       "      <th>Time (hours)</th>\n",
       "      <th>Symptoms</th>\n",
       "      <th>Diagnosis</th>\n",
       "    </tr>\n",
       "  </thead>\n",
       "  <tbody>\n",
       "    <tr>\n",
       "      <th>0</th>\n",
       "      <td>48.0</td>\n",
       "      <td>FEVER,SHIVERING,GENERAL FEELING OF DISCOMFORT,...</td>\n",
       "      <td>MALARIA</td>\n",
       "    </tr>\n",
       "    <tr>\n",
       "      <th>1</th>\n",
       "      <td>48.0</td>\n",
       "      <td>FEVER,HEADACHE,CHILLS,SWEATING,FATIGUE,NAUSEA,...</td>\n",
       "      <td>MALARIA</td>\n",
       "    </tr>\n",
       "    <tr>\n",
       "      <th>2</th>\n",
       "      <td>24.0</td>\n",
       "      <td>FEVER,CHILLS,SWEATS,HEADACHE,NAUSEA,VOMITING,B...</td>\n",
       "      <td>MALARIA</td>\n",
       "    </tr>\n",
       "    <tr>\n",
       "      <th>3</th>\n",
       "      <td>12.0</td>\n",
       "      <td>FEVER,CHILLS,NAUSEA,VOMITING,SWEATING,HEADACHE...</td>\n",
       "      <td>MALARIA</td>\n",
       "    </tr>\n",
       "    <tr>\n",
       "      <th>4</th>\n",
       "      <td>48.0</td>\n",
       "      <td>POOR APPETITE,CHILLS,FEVER,HIGH TEMPERATURE,SW...</td>\n",
       "      <td>MALARIA</td>\n",
       "    </tr>\n",
       "    <tr>\n",
       "      <th>...</th>\n",
       "      <td>...</td>\n",
       "      <td>...</td>\n",
       "      <td>...</td>\n",
       "    </tr>\n",
       "    <tr>\n",
       "      <th>195</th>\n",
       "      <td>264.0</td>\n",
       "      <td>DIFFICULTY BREATHING,COUGH,VOMITING,RUNNY NOSE...</td>\n",
       "      <td>COVID</td>\n",
       "    </tr>\n",
       "    <tr>\n",
       "      <th>196</th>\n",
       "      <td>48.0</td>\n",
       "      <td>FEVER,COUGH,DIARRHEA,FATIGUE,NEW LOSS OF TASTE...</td>\n",
       "      <td>COVID</td>\n",
       "    </tr>\n",
       "    <tr>\n",
       "      <th>197</th>\n",
       "      <td>312.0</td>\n",
       "      <td>SORE THROAT,VOMITING,FEVER,COUGH,BODY ACHES,DI...</td>\n",
       "      <td>COVID</td>\n",
       "    </tr>\n",
       "    <tr>\n",
       "      <th>198</th>\n",
       "      <td>168.0</td>\n",
       "      <td>FEVER,RUNNY NOSE,DIFFICULTY BREATHING,FATIGUE,...</td>\n",
       "      <td>COVID</td>\n",
       "    </tr>\n",
       "    <tr>\n",
       "      <th>199</th>\n",
       "      <td>216.0</td>\n",
       "      <td>COUGH,FATIGUE,SORE THROAT,NEW LOSS OF TASTE,BO...</td>\n",
       "      <td>COVID</td>\n",
       "    </tr>\n",
       "  </tbody>\n",
       "</table>\n",
       "<p>200 rows × 3 columns</p>\n",
       "</div>"
      ],
      "text/plain": [
       "     Time (hours)                                           Symptoms Diagnosis\n",
       "0            48.0  FEVER,SHIVERING,GENERAL FEELING OF DISCOMFORT,...   MALARIA\n",
       "1            48.0  FEVER,HEADACHE,CHILLS,SWEATING,FATIGUE,NAUSEA,...   MALARIA\n",
       "2            24.0  FEVER,CHILLS,SWEATS,HEADACHE,NAUSEA,VOMITING,B...   MALARIA\n",
       "3            12.0  FEVER,CHILLS,NAUSEA,VOMITING,SWEATING,HEADACHE...   MALARIA\n",
       "4            48.0  POOR APPETITE,CHILLS,FEVER,HIGH TEMPERATURE,SW...   MALARIA\n",
       "..            ...                                                ...       ...\n",
       "195         264.0  DIFFICULTY BREATHING,COUGH,VOMITING,RUNNY NOSE...     COVID\n",
       "196          48.0  FEVER,COUGH,DIARRHEA,FATIGUE,NEW LOSS OF TASTE...     COVID\n",
       "197         312.0  SORE THROAT,VOMITING,FEVER,COUGH,BODY ACHES,DI...     COVID\n",
       "198         168.0  FEVER,RUNNY NOSE,DIFFICULTY BREATHING,FATIGUE,...     COVID\n",
       "199         216.0  COUGH,FATIGUE,SORE THROAT,NEW LOSS OF TASTE,BO...     COVID\n",
       "\n",
       "[200 rows x 3 columns]"
      ]
     },
     "execution_count": 39,
     "metadata": {},
     "output_type": "execute_result"
    }
   ],
   "source": [
    "data"
   ]
  },
  {
   "cell_type": "code",
   "execution_count": 86,
   "id": "eb682f91",
   "metadata": {},
   "outputs": [],
   "source": [
    "x=data['Symptoms']\n",
    "y=data[\"Diagnosis\"]"
   ]
  },
  {
   "cell_type": "code",
   "execution_count": 87,
   "id": "26deab7d",
   "metadata": {},
   "outputs": [],
   "source": [
    "import string\n",
    "punc=string.punctuation\n",
    "from spacy.lang.en.stop_words import STOP_WORDS\n",
    "stopwords=list(STOP_WORDS)"
   ]
  },
  {
   "cell_type": "code",
   "execution_count": 88,
   "id": "0f304e5a",
   "metadata": {},
   "outputs": [],
   "source": [
    "import spacy\n",
    "nlp = spacy.load('en_core_web_sm')\n",
    "\n",
    "def text_cleaner(sentence):\n",
    "    doc=nlp(sentence)\n",
    "    \n",
    "    tokens=[]\n",
    "    for token in doc:\n",
    "        if token.lemma_!=\"-PRON-\":\n",
    "            temp=token.lemma_.lower().strip()\n",
    "        else:\n",
    "            temp=token.lower_\n",
    "        tokens.append(temp)\n",
    "        \n",
    "    cleaned_tokens=[]\n",
    "    for token in tokens:\n",
    "        if token not in stopwords and token not in punc:\n",
    "            cleaned_tokens.append(token)\n",
    "    return cleaned_tokens\n",
    "    \n",
    "        "
   ]
  },
  {
   "cell_type": "code",
   "execution_count": 89,
   "id": "7503bf6d",
   "metadata": {},
   "outputs": [],
   "source": [
    "from sklearn.svm import LinearSVC\n",
    "from sklearn.feature_extraction.text import TfidfVectorizer\n",
    "from sklearn.pipeline import Pipeline"
   ]
  },
  {
   "cell_type": "code",
   "execution_count": 90,
   "id": "9e967843",
   "metadata": {},
   "outputs": [],
   "source": [
    "tfidf=TfidfVectorizer(tokenizer=text_cleaner)"
   ]
  },
  {
   "cell_type": "code",
   "execution_count": 91,
   "id": "acd0256d",
   "metadata": {},
   "outputs": [],
   "source": [
    "classifier=LinearSVC()"
   ]
  },
  {
   "cell_type": "code",
   "execution_count": 92,
   "id": "02e24e66",
   "metadata": {},
   "outputs": [],
   "source": [
    "from sklearn.model_selection import train_test_split"
   ]
  },
  {
   "cell_type": "code",
   "execution_count": 93,
   "id": "1aee623e",
   "metadata": {},
   "outputs": [],
   "source": [
    "x_train,x_test,y_train,y_test=train_test_split(x,y,test_size=0.3,random_state=1)"
   ]
  },
  {
   "cell_type": "code",
   "execution_count": 94,
   "id": "df49bb63",
   "metadata": {},
   "outputs": [
    {
     "data": {
      "text/plain": [
       "((140,), (140,))"
      ]
     },
     "execution_count": 94,
     "metadata": {},
     "output_type": "execute_result"
    }
   ],
   "source": [
    "x_train.shape,y_train.shape"
   ]
  },
  {
   "cell_type": "code",
   "execution_count": 95,
   "id": "ed8f18a3",
   "metadata": {},
   "outputs": [],
   "source": [
    "clf=Pipeline([('tfidf',tfidf),('clf',classifier)])"
   ]
  },
  {
   "cell_type": "code",
   "execution_count": 96,
   "id": "0632d670",
   "metadata": {},
   "outputs": [
    {
     "data": {
      "text/html": [
       "<style>#sk-container-id-1 {color: black;background-color: white;}#sk-container-id-1 pre{padding: 0;}#sk-container-id-1 div.sk-toggleable {background-color: white;}#sk-container-id-1 label.sk-toggleable__label {cursor: pointer;display: block;width: 100%;margin-bottom: 0;padding: 0.3em;box-sizing: border-box;text-align: center;}#sk-container-id-1 label.sk-toggleable__label-arrow:before {content: \"▸\";float: left;margin-right: 0.25em;color: #696969;}#sk-container-id-1 label.sk-toggleable__label-arrow:hover:before {color: black;}#sk-container-id-1 div.sk-estimator:hover label.sk-toggleable__label-arrow:before {color: black;}#sk-container-id-1 div.sk-toggleable__content {max-height: 0;max-width: 0;overflow: hidden;text-align: left;background-color: #f0f8ff;}#sk-container-id-1 div.sk-toggleable__content pre {margin: 0.2em;color: black;border-radius: 0.25em;background-color: #f0f8ff;}#sk-container-id-1 input.sk-toggleable__control:checked~div.sk-toggleable__content {max-height: 200px;max-width: 100%;overflow: auto;}#sk-container-id-1 input.sk-toggleable__control:checked~label.sk-toggleable__label-arrow:before {content: \"▾\";}#sk-container-id-1 div.sk-estimator input.sk-toggleable__control:checked~label.sk-toggleable__label {background-color: #d4ebff;}#sk-container-id-1 div.sk-label input.sk-toggleable__control:checked~label.sk-toggleable__label {background-color: #d4ebff;}#sk-container-id-1 input.sk-hidden--visually {border: 0;clip: rect(1px 1px 1px 1px);clip: rect(1px, 1px, 1px, 1px);height: 1px;margin: -1px;overflow: hidden;padding: 0;position: absolute;width: 1px;}#sk-container-id-1 div.sk-estimator {font-family: monospace;background-color: #f0f8ff;border: 1px dotted black;border-radius: 0.25em;box-sizing: border-box;margin-bottom: 0.5em;}#sk-container-id-1 div.sk-estimator:hover {background-color: #d4ebff;}#sk-container-id-1 div.sk-parallel-item::after {content: \"\";width: 100%;border-bottom: 1px solid gray;flex-grow: 1;}#sk-container-id-1 div.sk-label:hover label.sk-toggleable__label {background-color: #d4ebff;}#sk-container-id-1 div.sk-serial::before {content: \"\";position: absolute;border-left: 1px solid gray;box-sizing: border-box;top: 0;bottom: 0;left: 50%;z-index: 0;}#sk-container-id-1 div.sk-serial {display: flex;flex-direction: column;align-items: center;background-color: white;padding-right: 0.2em;padding-left: 0.2em;position: relative;}#sk-container-id-1 div.sk-item {position: relative;z-index: 1;}#sk-container-id-1 div.sk-parallel {display: flex;align-items: stretch;justify-content: center;background-color: white;position: relative;}#sk-container-id-1 div.sk-item::before, #sk-container-id-1 div.sk-parallel-item::before {content: \"\";position: absolute;border-left: 1px solid gray;box-sizing: border-box;top: 0;bottom: 0;left: 50%;z-index: -1;}#sk-container-id-1 div.sk-parallel-item {display: flex;flex-direction: column;z-index: 1;position: relative;background-color: white;}#sk-container-id-1 div.sk-parallel-item:first-child::after {align-self: flex-end;width: 50%;}#sk-container-id-1 div.sk-parallel-item:last-child::after {align-self: flex-start;width: 50%;}#sk-container-id-1 div.sk-parallel-item:only-child::after {width: 0;}#sk-container-id-1 div.sk-dashed-wrapped {border: 1px dashed gray;margin: 0 0.4em 0.5em 0.4em;box-sizing: border-box;padding-bottom: 0.4em;background-color: white;}#sk-container-id-1 div.sk-label label {font-family: monospace;font-weight: bold;display: inline-block;line-height: 1.2em;}#sk-container-id-1 div.sk-label-container {text-align: center;}#sk-container-id-1 div.sk-container {/* jupyter's `normalize.less` sets `[hidden] { display: none; }` but bootstrap.min.css set `[hidden] { display: none !important; }` so we also need the `!important` here to be able to override the default hidden behavior on the sphinx rendered scikit-learn.org. See: https://github.com/scikit-learn/scikit-learn/issues/21755 */display: inline-block !important;position: relative;}#sk-container-id-1 div.sk-text-repr-fallback {display: none;}</style><div id=\"sk-container-id-1\" class=\"sk-top-container\"><div class=\"sk-text-repr-fallback\"><pre>Pipeline(steps=[(&#x27;tfidf&#x27;,\n",
       "                 TfidfVectorizer(tokenizer=&lt;function text_cleaner at 0x000002724265AD40&gt;)),\n",
       "                (&#x27;clf&#x27;, LinearSVC())])</pre><b>In a Jupyter environment, please rerun this cell to show the HTML representation or trust the notebook. <br />On GitHub, the HTML representation is unable to render, please try loading this page with nbviewer.org.</b></div><div class=\"sk-container\" hidden><div class=\"sk-item sk-dashed-wrapped\"><div class=\"sk-label-container\"><div class=\"sk-label sk-toggleable\"><input class=\"sk-toggleable__control sk-hidden--visually\" id=\"sk-estimator-id-1\" type=\"checkbox\" ><label for=\"sk-estimator-id-1\" class=\"sk-toggleable__label sk-toggleable__label-arrow\">Pipeline</label><div class=\"sk-toggleable__content\"><pre>Pipeline(steps=[(&#x27;tfidf&#x27;,\n",
       "                 TfidfVectorizer(tokenizer=&lt;function text_cleaner at 0x000002724265AD40&gt;)),\n",
       "                (&#x27;clf&#x27;, LinearSVC())])</pre></div></div></div><div class=\"sk-serial\"><div class=\"sk-item\"><div class=\"sk-estimator sk-toggleable\"><input class=\"sk-toggleable__control sk-hidden--visually\" id=\"sk-estimator-id-2\" type=\"checkbox\" ><label for=\"sk-estimator-id-2\" class=\"sk-toggleable__label sk-toggleable__label-arrow\">TfidfVectorizer</label><div class=\"sk-toggleable__content\"><pre>TfidfVectorizer(tokenizer=&lt;function text_cleaner at 0x000002724265AD40&gt;)</pre></div></div></div><div class=\"sk-item\"><div class=\"sk-estimator sk-toggleable\"><input class=\"sk-toggleable__control sk-hidden--visually\" id=\"sk-estimator-id-3\" type=\"checkbox\" ><label for=\"sk-estimator-id-3\" class=\"sk-toggleable__label sk-toggleable__label-arrow\">LinearSVC</label><div class=\"sk-toggleable__content\"><pre>LinearSVC()</pre></div></div></div></div></div></div></div>"
      ],
      "text/plain": [
       "Pipeline(steps=[('tfidf',\n",
       "                 TfidfVectorizer(tokenizer=<function text_cleaner at 0x000002724265AD40>)),\n",
       "                ('clf', LinearSVC())])"
      ]
     },
     "execution_count": 96,
     "metadata": {},
     "output_type": "execute_result"
    }
   ],
   "source": [
    "clf.fit(x_train,y_train)"
   ]
  },
  {
   "cell_type": "code",
   "execution_count": 97,
   "id": "e2bb9578",
   "metadata": {},
   "outputs": [],
   "source": [
    "from sklearn.metrics import accuracy_score,classification_report,confusion_matrix"
   ]
  },
  {
   "cell_type": "code",
   "execution_count": 98,
   "id": "19f866e3",
   "metadata": {},
   "outputs": [],
   "source": [
    "y_pred=clf.predict(x_test)"
   ]
  },
  {
   "cell_type": "code",
   "execution_count": 99,
   "id": "369c0234",
   "metadata": {},
   "outputs": [
    {
     "data": {
      "text/plain": [
       "array([[30,  0],\n",
       "       [ 0, 30]], dtype=int64)"
      ]
     },
     "execution_count": 99,
     "metadata": {},
     "output_type": "execute_result"
    }
   ],
   "source": [
    "confusion_matrix(y_test,y_pred)"
   ]
  },
  {
   "cell_type": "code",
   "execution_count": 100,
   "id": "d0cf98fd",
   "metadata": {},
   "outputs": [
    {
     "name": "stdout",
     "output_type": "stream",
     "text": [
      "              precision    recall  f1-score   support\n",
      "\n",
      "       COVID       1.00      1.00      1.00        30\n",
      "     MALARIA       1.00      1.00      1.00        30\n",
      "\n",
      "    accuracy                           1.00        60\n",
      "   macro avg       1.00      1.00      1.00        60\n",
      "weighted avg       1.00      1.00      1.00        60\n",
      "\n"
     ]
    }
   ],
   "source": [
    "print(classification_report(y_test,y_pred))"
   ]
  },
  {
   "cell_type": "code",
   "execution_count": 125,
   "id": "71b95aba",
   "metadata": {},
   "outputs": [],
   "source": [
    "val=['cough,difficulty breathing']"
   ]
  },
  {
   "cell_type": "code",
   "execution_count": 126,
   "id": "2b75dd0a",
   "metadata": {},
   "outputs": [],
   "source": [
    "pred=clf.predict(val)"
   ]
  },
  {
   "cell_type": "code",
   "execution_count": 127,
   "id": "3c306bb9",
   "metadata": {},
   "outputs": [
    {
     "data": {
      "text/plain": [
       "array(['COVID'], dtype=object)"
      ]
     },
     "execution_count": 127,
     "metadata": {},
     "output_type": "execute_result"
    }
   ],
   "source": [
    "pred"
   ]
  },
  {
   "cell_type": "code",
   "execution_count": null,
   "id": "6bca662b",
   "metadata": {},
   "outputs": [],
   "source": []
  },
  {
   "cell_type": "code",
   "execution_count": null,
   "id": "5cdf6c50",
   "metadata": {},
   "outputs": [],
   "source": []
  }
 ],
 "metadata": {
  "kernelspec": {
   "display_name": "Python 3 (ipykernel)",
   "language": "python",
   "name": "python3"
  },
  "language_info": {
   "codemirror_mode": {
    "name": "ipython",
    "version": 3
   },
   "file_extension": ".py",
   "mimetype": "text/x-python",
   "name": "python",
   "nbconvert_exporter": "python",
   "pygments_lexer": "ipython3",
   "version": "3.10.4"
  }
 },
 "nbformat": 4,
 "nbformat_minor": 5
}
