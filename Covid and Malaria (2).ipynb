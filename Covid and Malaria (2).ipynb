{
 "cells": [
  {
   "cell_type": "code",
   "execution_count": 301,
   "id": "dcb32c9d",
   "metadata": {},
   "outputs": [],
   "source": [
    "import numpy as np\n",
    "import pandas as pd\n",
    "import keras\n",
    "from keras.models import Sequential\n",
    "from keras.layers import Dense, Dropout, Activation\n",
    "from keras.optimizers import SGD\n",
    "from sklearn.model_selection import train_test_split\n",
    "import tensorflow as tf"
   ]
  },
  {
   "cell_type": "code",
   "execution_count": 302,
   "id": "951a0ad6",
   "metadata": {},
   "outputs": [],
   "source": [
    "data=pd.read_csv(r'C:\\Users\\USER\\DataDiagnosis.csv')"
   ]
  },
  {
   "cell_type": "code",
   "execution_count": 303,
   "id": "cd5007ea",
   "metadata": {
    "scrolled": false
   },
   "outputs": [
    {
     "data": {
      "text/html": [
       "<div>\n",
       "<style scoped>\n",
       "    .dataframe tbody tr th:only-of-type {\n",
       "        vertical-align: middle;\n",
       "    }\n",
       "\n",
       "    .dataframe tbody tr th {\n",
       "        vertical-align: top;\n",
       "    }\n",
       "\n",
       "    .dataframe thead th {\n",
       "        text-align: right;\n",
       "    }\n",
       "</style>\n",
       "<table border=\"1\" class=\"dataframe\">\n",
       "  <thead>\n",
       "    <tr style=\"text-align: right;\">\n",
       "      <th></th>\n",
       "      <th>Gender</th>\n",
       "      <th>Time (hours)</th>\n",
       "      <th>Symptom 1</th>\n",
       "      <th>Symptom 2</th>\n",
       "      <th>Symptom 3</th>\n",
       "      <th>Symptom 4</th>\n",
       "      <th>Symptom 5</th>\n",
       "      <th>Symptom 6</th>\n",
       "      <th>Symptom 7</th>\n",
       "      <th>Symptom 8</th>\n",
       "      <th>Symptom 9</th>\n",
       "      <th>Symptom 10</th>\n",
       "      <th>Symptom 11</th>\n",
       "      <th>Symptom 12</th>\n",
       "      <th>Symptom 13</th>\n",
       "      <th>Diagnosis</th>\n",
       "    </tr>\n",
       "  </thead>\n",
       "  <tbody>\n",
       "    <tr>\n",
       "      <th>0</th>\n",
       "      <td>MALE</td>\n",
       "      <td>144.0</td>\n",
       "      <td>NAUSEA OR VOMITING</td>\n",
       "      <td>FATIGUE</td>\n",
       "      <td>CONGESTION OR RUNNY NOSE</td>\n",
       "      <td>NAUSEA OR VOMITING</td>\n",
       "      <td>DIARRHEA</td>\n",
       "      <td>CONGESTION OR RUNNY NOSE</td>\n",
       "      <td>HEADACHE</td>\n",
       "      <td>COUGH</td>\n",
       "      <td>FEVER OR CHILLS</td>\n",
       "      <td>HEADACHE</td>\n",
       "      <td>SHORTNESS OF BREATH OR DIFFICULTY BREATHING</td>\n",
       "      <td>NAUSEA OR VOMITING</td>\n",
       "      <td>NAUSEA OR VOMITING</td>\n",
       "      <td>COVID</td>\n",
       "    </tr>\n",
       "    <tr>\n",
       "      <th>1</th>\n",
       "      <td>MALE</td>\n",
       "      <td>288.0</td>\n",
       "      <td>CONGESTION OR RUNNY NOSE</td>\n",
       "      <td>SORE THROAT</td>\n",
       "      <td>CONGESTION OR RUNNY NOSE</td>\n",
       "      <td>COUGH</td>\n",
       "      <td>SORE THROAT</td>\n",
       "      <td>HEADACHE</td>\n",
       "      <td>CONGESTION OR RUNNY NOSE</td>\n",
       "      <td>COUGH</td>\n",
       "      <td>SHORTNESS OF BREATH OR DIFFICULTY BREATHING</td>\n",
       "      <td>MUSCLE OR BODY ACHES</td>\n",
       "      <td>SHORTNESS OF BREATH OR DIFFICULTY BREATHING</td>\n",
       "      <td>HEADACHE</td>\n",
       "      <td>NAUSEA OR VOMITING</td>\n",
       "      <td>COVID</td>\n",
       "    </tr>\n",
       "    <tr>\n",
       "      <th>2</th>\n",
       "      <td>MALE</td>\n",
       "      <td>72.0</td>\n",
       "      <td>SORE THROAT</td>\n",
       "      <td>NAUSEA OR VOMITING</td>\n",
       "      <td>COUGH</td>\n",
       "      <td>FEVER OR CHILLS</td>\n",
       "      <td>CONGESTION OR RUNNY NOSE</td>\n",
       "      <td>SORE THROAT</td>\n",
       "      <td>DIARRHEA</td>\n",
       "      <td>FEVER OR CHILLS</td>\n",
       "      <td>NEW LOSS OF TASTE OR SMELL</td>\n",
       "      <td>HEADACHE</td>\n",
       "      <td>COUGH</td>\n",
       "      <td>NAUSEA OR VOMITING</td>\n",
       "      <td>HEADACHE</td>\n",
       "      <td>COVID</td>\n",
       "    </tr>\n",
       "    <tr>\n",
       "      <th>3</th>\n",
       "      <td>MALE</td>\n",
       "      <td>336.0</td>\n",
       "      <td>CONGESTION OR RUNNY NOSE</td>\n",
       "      <td>CONGESTION OR RUNNY NOSE</td>\n",
       "      <td>SORE THROAT</td>\n",
       "      <td>SHORTNESS OF BREATH OR DIFFICULTY BREATHING</td>\n",
       "      <td>COUGH</td>\n",
       "      <td>FEVER OR CHILLS</td>\n",
       "      <td>SHORTNESS OF BREATH OR DIFFICULTY BREATHING</td>\n",
       "      <td>CONGESTION OR RUNNY NOSE</td>\n",
       "      <td>FATIGUE</td>\n",
       "      <td>FATIGUE</td>\n",
       "      <td>NEW LOSS OF TASTE OR SMELL</td>\n",
       "      <td>SORE THROAT</td>\n",
       "      <td>SORE THROAT</td>\n",
       "      <td>COVID</td>\n",
       "    </tr>\n",
       "    <tr>\n",
       "      <th>4</th>\n",
       "      <td>FEMALE</td>\n",
       "      <td>312.0</td>\n",
       "      <td>DIARRHEA</td>\n",
       "      <td>NEW LOSS OF TASTE OR SMELL</td>\n",
       "      <td>MUSCLE OR BODY ACHES</td>\n",
       "      <td>NAUSEA OR VOMITING</td>\n",
       "      <td>CONGESTION OR RUNNY NOSE</td>\n",
       "      <td>FEVER OR CHILLS</td>\n",
       "      <td>SORE THROAT</td>\n",
       "      <td>SORE THROAT</td>\n",
       "      <td>MUSCLE OR BODY ACHES</td>\n",
       "      <td>DIARRHEA</td>\n",
       "      <td>CONGESTION OR RUNNY NOSE</td>\n",
       "      <td>COUGH</td>\n",
       "      <td>FATIGUE</td>\n",
       "      <td>COVID</td>\n",
       "    </tr>\n",
       "    <tr>\n",
       "      <th>...</th>\n",
       "      <td>...</td>\n",
       "      <td>...</td>\n",
       "      <td>...</td>\n",
       "      <td>...</td>\n",
       "      <td>...</td>\n",
       "      <td>...</td>\n",
       "      <td>...</td>\n",
       "      <td>...</td>\n",
       "      <td>...</td>\n",
       "      <td>...</td>\n",
       "      <td>...</td>\n",
       "      <td>...</td>\n",
       "      <td>...</td>\n",
       "      <td>...</td>\n",
       "      <td>...</td>\n",
       "      <td>...</td>\n",
       "    </tr>\n",
       "    <tr>\n",
       "      <th>195</th>\n",
       "      <td>FEMALE</td>\n",
       "      <td>12.0</td>\n",
       "      <td>SWEATS</td>\n",
       "      <td>CHILLS</td>\n",
       "      <td>HEADACHE</td>\n",
       "      <td>VOMITING</td>\n",
       "      <td>TIRED</td>\n",
       "      <td>DIARRHOEA</td>\n",
       "      <td>BODY PAIN</td>\n",
       "      <td></td>\n",
       "      <td></td>\n",
       "      <td></td>\n",
       "      <td></td>\n",
       "      <td></td>\n",
       "      <td></td>\n",
       "      <td>MALARIA</td>\n",
       "    </tr>\n",
       "    <tr>\n",
       "      <th>196</th>\n",
       "      <td>MALE</td>\n",
       "      <td>12.0</td>\n",
       "      <td>FEVER</td>\n",
       "      <td>SWEATING</td>\n",
       "      <td>HEADACHE</td>\n",
       "      <td>BODY PAIN</td>\n",
       "      <td>VOMITING</td>\n",
       "      <td>TIREDNESS</td>\n",
       "      <td>DIARRHEA</td>\n",
       "      <td></td>\n",
       "      <td></td>\n",
       "      <td></td>\n",
       "      <td></td>\n",
       "      <td></td>\n",
       "      <td></td>\n",
       "      <td>MALARIA</td>\n",
       "    </tr>\n",
       "    <tr>\n",
       "      <th>197</th>\n",
       "      <td>MALE</td>\n",
       "      <td>168.0</td>\n",
       "      <td>BODY PAIN</td>\n",
       "      <td>FEVER</td>\n",
       "      <td>VOMITING</td>\n",
       "      <td>DIARRHEA</td>\n",
       "      <td>TIREDNESS</td>\n",
       "      <td>HEADACHES</td>\n",
       "      <td>JOINT PAIN</td>\n",
       "      <td></td>\n",
       "      <td></td>\n",
       "      <td></td>\n",
       "      <td></td>\n",
       "      <td></td>\n",
       "      <td></td>\n",
       "      <td>MALARIA</td>\n",
       "    </tr>\n",
       "    <tr>\n",
       "      <th>198</th>\n",
       "      <td>MALE</td>\n",
       "      <td>48.0</td>\n",
       "      <td>HEADACHE</td>\n",
       "      <td>BODY PAIN</td>\n",
       "      <td>TIREDNESS</td>\n",
       "      <td>FEVER</td>\n",
       "      <td>CHILLS</td>\n",
       "      <td>SWEATING</td>\n",
       "      <td></td>\n",
       "      <td></td>\n",
       "      <td></td>\n",
       "      <td></td>\n",
       "      <td></td>\n",
       "      <td></td>\n",
       "      <td></td>\n",
       "      <td>MALARIA</td>\n",
       "    </tr>\n",
       "    <tr>\n",
       "      <th>199</th>\n",
       "      <td>FEMALE</td>\n",
       "      <td>24.0</td>\n",
       "      <td>MUSCLE PAIN</td>\n",
       "      <td>TIREDNESS</td>\n",
       "      <td>HEADACHE</td>\n",
       "      <td>DIARRHEA</td>\n",
       "      <td>VOMITING</td>\n",
       "      <td>SWEATING</td>\n",
       "      <td></td>\n",
       "      <td></td>\n",
       "      <td></td>\n",
       "      <td></td>\n",
       "      <td></td>\n",
       "      <td></td>\n",
       "      <td></td>\n",
       "      <td>MALARIA</td>\n",
       "    </tr>\n",
       "  </tbody>\n",
       "</table>\n",
       "<p>200 rows × 16 columns</p>\n",
       "</div>"
      ],
      "text/plain": [
       "     Gender  Time (hours)                 Symptom 1  \\\n",
       "0      MALE         144.0        NAUSEA OR VOMITING   \n",
       "1      MALE         288.0  CONGESTION OR RUNNY NOSE   \n",
       "2      MALE          72.0               SORE THROAT   \n",
       "3      MALE         336.0  CONGESTION OR RUNNY NOSE   \n",
       "4    FEMALE         312.0                  DIARRHEA   \n",
       "..      ...           ...                       ...   \n",
       "195  FEMALE          12.0                    SWEATS   \n",
       "196    MALE          12.0                     FEVER   \n",
       "197    MALE         168.0                 BODY PAIN   \n",
       "198    MALE          48.0                  HEADACHE   \n",
       "199  FEMALE          24.0               MUSCLE PAIN   \n",
       "\n",
       "                      Symptom 2                 Symptom 3  \\\n",
       "0                       FATIGUE  CONGESTION OR RUNNY NOSE   \n",
       "1                   SORE THROAT  CONGESTION OR RUNNY NOSE   \n",
       "2            NAUSEA OR VOMITING                     COUGH   \n",
       "3      CONGESTION OR RUNNY NOSE               SORE THROAT   \n",
       "4    NEW LOSS OF TASTE OR SMELL      MUSCLE OR BODY ACHES   \n",
       "..                          ...                       ...   \n",
       "195                      CHILLS                  HEADACHE   \n",
       "196                    SWEATING                  HEADACHE   \n",
       "197                       FEVER                  VOMITING   \n",
       "198                   BODY PAIN                 TIREDNESS   \n",
       "199                   TIREDNESS                  HEADACHE   \n",
       "\n",
       "                                       Symptom 4                 Symptom 5  \\\n",
       "0                             NAUSEA OR VOMITING                  DIARRHEA   \n",
       "1                                          COUGH               SORE THROAT   \n",
       "2                                FEVER OR CHILLS  CONGESTION OR RUNNY NOSE   \n",
       "3    SHORTNESS OF BREATH OR DIFFICULTY BREATHING                     COUGH   \n",
       "4                             NAUSEA OR VOMITING  CONGESTION OR RUNNY NOSE   \n",
       "..                                           ...                       ...   \n",
       "195                                     VOMITING                     TIRED   \n",
       "196                                    BODY PAIN                  VOMITING   \n",
       "197                                     DIARRHEA                 TIREDNESS   \n",
       "198                                        FEVER                    CHILLS   \n",
       "199                                     DIARRHEA                  VOMITING   \n",
       "\n",
       "                    Symptom 6                                    Symptom 7  \\\n",
       "0    CONGESTION OR RUNNY NOSE                                     HEADACHE   \n",
       "1                    HEADACHE                     CONGESTION OR RUNNY NOSE   \n",
       "2                 SORE THROAT                                     DIARRHEA   \n",
       "3             FEVER OR CHILLS  SHORTNESS OF BREATH OR DIFFICULTY BREATHING   \n",
       "4             FEVER OR CHILLS                                  SORE THROAT   \n",
       "..                        ...                                          ...   \n",
       "195                 DIARRHOEA                                    BODY PAIN   \n",
       "196                 TIREDNESS                                     DIARRHEA   \n",
       "197                 HEADACHES                                   JOINT PAIN   \n",
       "198                  SWEATING                                                \n",
       "199                  SWEATING                                                \n",
       "\n",
       "                    Symptom 8                                    Symptom 9  \\\n",
       "0                       COUGH                              FEVER OR CHILLS   \n",
       "1                       COUGH  SHORTNESS OF BREATH OR DIFFICULTY BREATHING   \n",
       "2             FEVER OR CHILLS                   NEW LOSS OF TASTE OR SMELL   \n",
       "3    CONGESTION OR RUNNY NOSE                                      FATIGUE   \n",
       "4                 SORE THROAT                         MUSCLE OR BODY ACHES   \n",
       "..                        ...                                          ...   \n",
       "195                                                                          \n",
       "196                                                                          \n",
       "197                                                                          \n",
       "198                                                                          \n",
       "199                                                                          \n",
       "\n",
       "               Symptom 10                                   Symptom 11  \\\n",
       "0                HEADACHE  SHORTNESS OF BREATH OR DIFFICULTY BREATHING   \n",
       "1    MUSCLE OR BODY ACHES  SHORTNESS OF BREATH OR DIFFICULTY BREATHING   \n",
       "2                HEADACHE                                        COUGH   \n",
       "3                 FATIGUE                   NEW LOSS OF TASTE OR SMELL   \n",
       "4                DIARRHEA                     CONGESTION OR RUNNY NOSE   \n",
       "..                    ...                                          ...   \n",
       "195                                                                      \n",
       "196                                                                      \n",
       "197                                                                      \n",
       "198                                                                      \n",
       "199                                                                      \n",
       "\n",
       "             Symptom 12          Symptom 13 Diagnosis  \n",
       "0    NAUSEA OR VOMITING  NAUSEA OR VOMITING     COVID  \n",
       "1              HEADACHE  NAUSEA OR VOMITING     COVID  \n",
       "2    NAUSEA OR VOMITING            HEADACHE     COVID  \n",
       "3           SORE THROAT         SORE THROAT     COVID  \n",
       "4                 COUGH             FATIGUE     COVID  \n",
       "..                  ...                 ...       ...  \n",
       "195                                           MALARIA  \n",
       "196                                           MALARIA  \n",
       "197                                           MALARIA  \n",
       "198                                           MALARIA  \n",
       "199                                           MALARIA  \n",
       "\n",
       "[200 rows x 16 columns]"
      ]
     },
     "execution_count": 303,
     "metadata": {},
     "output_type": "execute_result"
    }
   ],
   "source": [
    "data"
   ]
  },
  {
   "cell_type": "code",
   "execution_count": 304,
   "id": "4e8f65ae",
   "metadata": {},
   "outputs": [],
   "source": [
    "from sklearn.preprocessing import LabelEncoder"
   ]
  },
  {
   "cell_type": "code",
   "execution_count": 305,
   "id": "2f8dd529",
   "metadata": {},
   "outputs": [],
   "source": [
    "cl= ['Gender', 'Time (hours)','Symptom 1', 'Symptom 2', 'Symptom 3', 'Symptom 4', 'Symptom 5',\n",
    "       'Symptom 6', 'Symptom 7', 'Symptom 8', 'Symptom 9', 'Symptom 10',\n",
    "       'Symptom 11', 'Symptom 12', 'Symptom 13', 'Diagnosis']\n",
    "encoder=LabelEncoder()\n",
    "data[cl]=data[cl].apply(encoder.fit_transform)"
   ]
  },
  {
   "cell_type": "code",
   "execution_count": 306,
   "id": "a027b770",
   "metadata": {},
   "outputs": [],
   "source": [
    "x=data.drop('Diagnosis',axis=1)\n",
    "y=data['Diagnosis']"
   ]
  },
  {
   "cell_type": "code",
   "execution_count": 307,
   "id": "d30acccd",
   "metadata": {},
   "outputs": [],
   "source": [
    "encoder=LabelEncoder()\n",
    "g=np.array(x).ravel()\n",
    "encoder.fit(g)\n",
    "np.save('data.npy',encoder.classes_)"
   ]
  },
  {
   "cell_type": "code",
   "execution_count": 308,
   "id": "b664f1a9",
   "metadata": {},
   "outputs": [],
   "source": [
    "from sklearn.model_selection import train_test_split\n",
    "x_train,x_test,y_train,y_test=train_test_split(x,y,test_size=0.2,random_state=42)"
   ]
  },
  {
   "cell_type": "code",
   "execution_count": 309,
   "id": "980982c9",
   "metadata": {},
   "outputs": [],
   "source": [
    "from sklearn.ensemble import RandomForestClassifier\n",
    "rf=RandomForestClassifier()"
   ]
  },
  {
   "cell_type": "code",
   "execution_count": 310,
   "id": "dad38ce7",
   "metadata": {},
   "outputs": [
    {
     "data": {
      "text/html": [
       "<style>#sk-container-id-2 {color: black;background-color: white;}#sk-container-id-2 pre{padding: 0;}#sk-container-id-2 div.sk-toggleable {background-color: white;}#sk-container-id-2 label.sk-toggleable__label {cursor: pointer;display: block;width: 100%;margin-bottom: 0;padding: 0.3em;box-sizing: border-box;text-align: center;}#sk-container-id-2 label.sk-toggleable__label-arrow:before {content: \"▸\";float: left;margin-right: 0.25em;color: #696969;}#sk-container-id-2 label.sk-toggleable__label-arrow:hover:before {color: black;}#sk-container-id-2 div.sk-estimator:hover label.sk-toggleable__label-arrow:before {color: black;}#sk-container-id-2 div.sk-toggleable__content {max-height: 0;max-width: 0;overflow: hidden;text-align: left;background-color: #f0f8ff;}#sk-container-id-2 div.sk-toggleable__content pre {margin: 0.2em;color: black;border-radius: 0.25em;background-color: #f0f8ff;}#sk-container-id-2 input.sk-toggleable__control:checked~div.sk-toggleable__content {max-height: 200px;max-width: 100%;overflow: auto;}#sk-container-id-2 input.sk-toggleable__control:checked~label.sk-toggleable__label-arrow:before {content: \"▾\";}#sk-container-id-2 div.sk-estimator input.sk-toggleable__control:checked~label.sk-toggleable__label {background-color: #d4ebff;}#sk-container-id-2 div.sk-label input.sk-toggleable__control:checked~label.sk-toggleable__label {background-color: #d4ebff;}#sk-container-id-2 input.sk-hidden--visually {border: 0;clip: rect(1px 1px 1px 1px);clip: rect(1px, 1px, 1px, 1px);height: 1px;margin: -1px;overflow: hidden;padding: 0;position: absolute;width: 1px;}#sk-container-id-2 div.sk-estimator {font-family: monospace;background-color: #f0f8ff;border: 1px dotted black;border-radius: 0.25em;box-sizing: border-box;margin-bottom: 0.5em;}#sk-container-id-2 div.sk-estimator:hover {background-color: #d4ebff;}#sk-container-id-2 div.sk-parallel-item::after {content: \"\";width: 100%;border-bottom: 1px solid gray;flex-grow: 1;}#sk-container-id-2 div.sk-label:hover label.sk-toggleable__label {background-color: #d4ebff;}#sk-container-id-2 div.sk-serial::before {content: \"\";position: absolute;border-left: 1px solid gray;box-sizing: border-box;top: 0;bottom: 0;left: 50%;z-index: 0;}#sk-container-id-2 div.sk-serial {display: flex;flex-direction: column;align-items: center;background-color: white;padding-right: 0.2em;padding-left: 0.2em;position: relative;}#sk-container-id-2 div.sk-item {position: relative;z-index: 1;}#sk-container-id-2 div.sk-parallel {display: flex;align-items: stretch;justify-content: center;background-color: white;position: relative;}#sk-container-id-2 div.sk-item::before, #sk-container-id-2 div.sk-parallel-item::before {content: \"\";position: absolute;border-left: 1px solid gray;box-sizing: border-box;top: 0;bottom: 0;left: 50%;z-index: -1;}#sk-container-id-2 div.sk-parallel-item {display: flex;flex-direction: column;z-index: 1;position: relative;background-color: white;}#sk-container-id-2 div.sk-parallel-item:first-child::after {align-self: flex-end;width: 50%;}#sk-container-id-2 div.sk-parallel-item:last-child::after {align-self: flex-start;width: 50%;}#sk-container-id-2 div.sk-parallel-item:only-child::after {width: 0;}#sk-container-id-2 div.sk-dashed-wrapped {border: 1px dashed gray;margin: 0 0.4em 0.5em 0.4em;box-sizing: border-box;padding-bottom: 0.4em;background-color: white;}#sk-container-id-2 div.sk-label label {font-family: monospace;font-weight: bold;display: inline-block;line-height: 1.2em;}#sk-container-id-2 div.sk-label-container {text-align: center;}#sk-container-id-2 div.sk-container {/* jupyter's `normalize.less` sets `[hidden] { display: none; }` but bootstrap.min.css set `[hidden] { display: none !important; }` so we also need the `!important` here to be able to override the default hidden behavior on the sphinx rendered scikit-learn.org. See: https://github.com/scikit-learn/scikit-learn/issues/21755 */display: inline-block !important;position: relative;}#sk-container-id-2 div.sk-text-repr-fallback {display: none;}</style><div id=\"sk-container-id-2\" class=\"sk-top-container\"><div class=\"sk-text-repr-fallback\"><pre>RandomForestClassifier()</pre><b>In a Jupyter environment, please rerun this cell to show the HTML representation or trust the notebook. <br />On GitHub, the HTML representation is unable to render, please try loading this page with nbviewer.org.</b></div><div class=\"sk-container\" hidden><div class=\"sk-item\"><div class=\"sk-estimator sk-toggleable\"><input class=\"sk-toggleable__control sk-hidden--visually\" id=\"sk-estimator-id-2\" type=\"checkbox\" checked><label for=\"sk-estimator-id-2\" class=\"sk-toggleable__label sk-toggleable__label-arrow\">RandomForestClassifier</label><div class=\"sk-toggleable__content\"><pre>RandomForestClassifier()</pre></div></div></div></div></div>"
      ],
      "text/plain": [
       "RandomForestClassifier()"
      ]
     },
     "execution_count": 310,
     "metadata": {},
     "output_type": "execute_result"
    }
   ],
   "source": [
    "rf.fit(x,y)"
   ]
  },
  {
   "cell_type": "code",
   "execution_count": 311,
   "id": "b33531e7",
   "metadata": {},
   "outputs": [
    {
     "data": {
      "text/plain": [
       "1.0"
      ]
     },
     "execution_count": 311,
     "metadata": {},
     "output_type": "execute_result"
    }
   ],
   "source": [
    "rf.score(x_test,y_test)"
   ]
  },
  {
   "cell_type": "code",
   "execution_count": 332,
   "id": "0207c930",
   "metadata": {},
   "outputs": [],
   "source": [
    "import pickle \n",
    "pickle.dump(rf,open(\"Covid and Malaria.pkl\",\"wb\"))"
   ]
  },
  {
   "cell_type": "markdown",
   "id": "82a8f6c4",
   "metadata": {},
   "source": [
    "# To open the pickle and test model"
   ]
  },
  {
   "cell_type": "code",
   "execution_count": 334,
   "id": "623de6f0",
   "metadata": {},
   "outputs": [],
   "source": [
    "model=pickle.load(open(\"Covid and Malaria.pkl\",\"rb\"))"
   ]
  },
  {
   "cell_type": "code",
   "execution_count": 335,
   "id": "bedd8ef3",
   "metadata": {},
   "outputs": [],
   "source": [
    "val=['feMALE',24,'FEVER','HEADACHE','NAUSEA','CHILLS','CHILLS','EXCESSIVE SWEATING','DIARRHEA','GENERALLY FEELING UNWELL','ANAEMIA','','','','']\n",
    "#val=['MALE',288.0,'CONGESTION OR RUNNY NOSE','SORE THROAT','CONGESTION OR RUNNY NOSE','COUGH','SORE THROAT','HEADACHE','CONGESTION OR RUNNY NOSE','COUGH','SHORTNESS OF BREATH OR DIFFICULTY BREATHING','MUSCLE OR BODY ACHES','SHORTNESS OF BREATH OR DIFFICULTY BREATHING','HEADACHE','NAUSEA OR VOMITING']\n",
    "final=[]\n",
    "for v in val:\n",
    "    if type(v)==str:\n",
    "        v=v.upper()\n",
    "        final.append(v)\n",
    "    else:\n",
    "        final.append(v)"
   ]
  },
  {
   "cell_type": "code",
   "execution_count": 336,
   "id": "69f4058a",
   "metadata": {},
   "outputs": [
    {
     "data": {
      "text/plain": [
       "['FEMALE',\n",
       " 24,\n",
       " 'FEVER',\n",
       " 'HEADACHE',\n",
       " 'NAUSEA',\n",
       " 'CHILLS',\n",
       " 'CHILLS',\n",
       " 'EXCESSIVE SWEATING',\n",
       " 'DIARRHEA',\n",
       " 'GENERALLY FEELING UNWELL',\n",
       " 'ANAEMIA',\n",
       " '',\n",
       " '',\n",
       " '',\n",
       " '']"
      ]
     },
     "execution_count": 336,
     "metadata": {},
     "output_type": "execute_result"
    }
   ],
   "source": [
    "final"
   ]
  },
  {
   "cell_type": "code",
   "execution_count": 337,
   "id": "34a9cc5a",
   "metadata": {},
   "outputs": [],
   "source": [
    "encoder=LabelEncoder()\n",
    "encoder.classes_=np.load('data.npy',allow_pickle=True)"
   ]
  },
  {
   "cell_type": "code",
   "execution_count": 338,
   "id": "aea887aa",
   "metadata": {},
   "outputs": [
    {
     "data": {
      "text/plain": [
       "array([ 0,  1,  2,  3,  4,  5,  6,  7,  8,  9, 10, 11, 12, 13, 14, 15, 16,\n",
       "       17, 18, 19, 20, 21], dtype=int64)"
      ]
     },
     "execution_count": 338,
     "metadata": {},
     "output_type": "execute_result"
    }
   ],
   "source": [
    "encoder.classes_"
   ]
  },
  {
   "cell_type": "code",
   "execution_count": 339,
   "id": "bf591331",
   "metadata": {},
   "outputs": [],
   "source": [
    "x=encoder.fit_transform(final)"
   ]
  },
  {
   "cell_type": "code",
   "execution_count": 340,
   "id": "631f460a",
   "metadata": {},
   "outputs": [],
   "source": [
    "x=np.array(x).reshape(1,15)"
   ]
  },
  {
   "cell_type": "code",
   "execution_count": 341,
   "id": "8d99dfdc",
   "metadata": {},
   "outputs": [
    {
     "name": "stderr",
     "output_type": "stream",
     "text": [
      "C:\\Users\\USER\\AppData\\Roaming\\Python\\Python310\\site-packages\\sklearn\\base.py:450: UserWarning: X does not have valid feature names, but RandomForestClassifier was fitted with feature names\n",
      "  warnings.warn(\n"
     ]
    },
    {
     "data": {
      "text/plain": [
       "'Malaria'"
      ]
     },
     "execution_count": 341,
     "metadata": {},
     "output_type": "execute_result"
    }
   ],
   "source": [
    "ans=rf.predict(x)\n",
    "ans\n",
    "if ans == 0:\n",
    "    ans='Covid'\n",
    "else:\n",
    "    ans='Malaria'\n",
    "ans"
   ]
  },
  {
   "cell_type": "code",
   "execution_count": 342,
   "id": "47de4c0d",
   "metadata": {},
   "outputs": [
    {
     "name": "stdout",
     "output_type": "stream",
     "text": [
      "Diagnosis is 81.0 % Malaria\n"
     ]
    },
    {
     "name": "stderr",
     "output_type": "stream",
     "text": [
      "C:\\Users\\USER\\AppData\\Roaming\\Python\\Python310\\site-packages\\sklearn\\base.py:450: UserWarning: X does not have valid feature names, but RandomForestClassifier was fitted with feature names\n",
      "  warnings.warn(\n"
     ]
    }
   ],
   "source": [
    "pred=rf.predict_proba(x)\n",
    "print('Diagnosis is',pred.max()*100,'%',ans)"
   ]
  },
  {
   "cell_type": "code",
   "execution_count": null,
   "id": "71903553",
   "metadata": {},
   "outputs": [],
   "source": []
  },
  {
   "cell_type": "code",
   "execution_count": null,
   "id": "e02cc222",
   "metadata": {},
   "outputs": [],
   "source": []
  },
  {
   "cell_type": "code",
   "execution_count": null,
   "id": "c79f678d",
   "metadata": {},
   "outputs": [],
   "source": []
  },
  {
   "cell_type": "code",
   "execution_count": null,
   "id": "82884272",
   "metadata": {},
   "outputs": [],
   "source": []
  }
 ],
 "metadata": {
  "kernelspec": {
   "display_name": "Python 3 (ipykernel)",
   "language": "python",
   "name": "python3"
  },
  "language_info": {
   "codemirror_mode": {
    "name": "ipython",
    "version": 3
   },
   "file_extension": ".py",
   "mimetype": "text/x-python",
   "name": "python",
   "nbconvert_exporter": "python",
   "pygments_lexer": "ipython3",
   "version": "3.10.4"
  }
 },
 "nbformat": 4,
 "nbformat_minor": 5
}
