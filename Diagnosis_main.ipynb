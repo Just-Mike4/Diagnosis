{
 "cells": [
  {
   "cell_type": "code",
   "execution_count": 112,
   "id": "aca3732d",
   "metadata": {},
   "outputs": [],
   "source": [
    "import numpy as np\n",
    "import pandas as pd\n",
    "import keras\n",
    "from keras.models import Sequential\n",
    "from keras.layers import Dense, Dropout, Activation\n",
    "from keras.optimizers import SGD\n",
    "from sklearn.model_selection import train_test_split\n",
    "import tensorflow as tf"
   ]
  },
  {
   "cell_type": "code",
   "execution_count": 181,
   "id": "191557f6",
   "metadata": {},
   "outputs": [],
   "source": [
    "data=pd.read_csv(r'C:\\Users\\USER\\Final model.csv')"
   ]
  },
  {
   "cell_type": "code",
   "execution_count": 178,
   "id": "a7c1889c",
   "metadata": {},
   "outputs": [],
   "source": [
    "data['Gender']=data['Gender'].str.upper()"
   ]
  },
  {
   "cell_type": "code",
   "execution_count": 180,
   "id": "b8b94404",
   "metadata": {},
   "outputs": [],
   "source": [
    "data.to_csv('Final model.csv',index=False)"
   ]
  },
  {
   "cell_type": "code",
   "execution_count": 182,
   "id": "dc998354",
   "metadata": {
    "scrolled": true
   },
   "outputs": [
    {
     "data": {
      "text/html": [
       "<div>\n",
       "<style scoped>\n",
       "    .dataframe tbody tr th:only-of-type {\n",
       "        vertical-align: middle;\n",
       "    }\n",
       "\n",
       "    .dataframe tbody tr th {\n",
       "        vertical-align: top;\n",
       "    }\n",
       "\n",
       "    .dataframe thead th {\n",
       "        text-align: right;\n",
       "    }\n",
       "</style>\n",
       "<table border=\"1\" class=\"dataframe\">\n",
       "  <thead>\n",
       "    <tr style=\"text-align: right;\">\n",
       "      <th></th>\n",
       "      <th>Gender</th>\n",
       "      <th>Time(hours)</th>\n",
       "      <th>Previous cycle</th>\n",
       "      <th>No of stooling per day</th>\n",
       "      <th>Symptom 1</th>\n",
       "      <th>Symptom 2</th>\n",
       "      <th>Symptom 3</th>\n",
       "      <th>Symptom 4</th>\n",
       "      <th>Symptom 5</th>\n",
       "      <th>Symptom 6</th>\n",
       "      <th>Symptom 7</th>\n",
       "      <th>Symptom 8</th>\n",
       "      <th>Symptom 9</th>\n",
       "      <th>Symptom 10</th>\n",
       "      <th>Symptom 11</th>\n",
       "      <th>Symptom 12</th>\n",
       "      <th>Symptom 13</th>\n",
       "      <th>Diagnosis</th>\n",
       "    </tr>\n",
       "  </thead>\n",
       "  <tbody>\n",
       "    <tr>\n",
       "      <th>0</th>\n",
       "      <td>MALE</td>\n",
       "      <td>72.0</td>\n",
       "      <td>NaN</td>\n",
       "      <td>5.0</td>\n",
       "      <td>ABDOMINAL PAIN</td>\n",
       "      <td>ABDOMINAL PAINS</td>\n",
       "      <td>WATERY FAECES</td>\n",
       "      <td>NAUSEA</td>\n",
       "      <td>VOMITING</td>\n",
       "      <td>NaN</td>\n",
       "      <td>NaN</td>\n",
       "      <td>NaN</td>\n",
       "      <td>NaN</td>\n",
       "      <td>NaN</td>\n",
       "      <td>NaN</td>\n",
       "      <td>NaN</td>\n",
       "      <td>NaN</td>\n",
       "      <td>DIARRHEA</td>\n",
       "    </tr>\n",
       "    <tr>\n",
       "      <th>1</th>\n",
       "      <td>FEMALE</td>\n",
       "      <td>72.0</td>\n",
       "      <td>NaN</td>\n",
       "      <td>8.0</td>\n",
       "      <td>BLOOD IN STOOL</td>\n",
       "      <td>PERSISTENT VOMITING</td>\n",
       "      <td>STOMACHE ACHE</td>\n",
       "      <td>WEIGHT LOSS</td>\n",
       "      <td>DEHYDRATION</td>\n",
       "      <td>NaN</td>\n",
       "      <td>NaN</td>\n",
       "      <td>NaN</td>\n",
       "      <td>NaN</td>\n",
       "      <td>NaN</td>\n",
       "      <td>NaN</td>\n",
       "      <td>NaN</td>\n",
       "      <td>NaN</td>\n",
       "      <td>DIARRHEA</td>\n",
       "    </tr>\n",
       "    <tr>\n",
       "      <th>2</th>\n",
       "      <td>MALE</td>\n",
       "      <td>NaN</td>\n",
       "      <td>NaN</td>\n",
       "      <td>NaN</td>\n",
       "      <td>FEVER</td>\n",
       "      <td>HEADACHE</td>\n",
       "      <td>NAUSEA</td>\n",
       "      <td>CHILLS</td>\n",
       "      <td>CHILLS</td>\n",
       "      <td>EXCESSIVE SWEATING</td>\n",
       "      <td>DIARRHEA</td>\n",
       "      <td>GENERALLY FEELING UNWELL</td>\n",
       "      <td>ANAEMIA</td>\n",
       "      <td>NaN</td>\n",
       "      <td>NaN</td>\n",
       "      <td>NaN</td>\n",
       "      <td>NaN</td>\n",
       "      <td>MALARIA</td>\n",
       "    </tr>\n",
       "    <tr>\n",
       "      <th>3</th>\n",
       "      <td>FEMALE</td>\n",
       "      <td>24.0</td>\n",
       "      <td>28.0</td>\n",
       "      <td>NaN</td>\n",
       "      <td>BLOOD FLOW FROM VAGINA</td>\n",
       "      <td>MOOD SWINGS</td>\n",
       "      <td>TROUBLE SLEEPING</td>\n",
       "      <td>FOOD CRAVINGS</td>\n",
       "      <td>CRAMPS IN LOWER ABDOMEN</td>\n",
       "      <td>NaN</td>\n",
       "      <td>CRAMPS IN LOWER BACK</td>\n",
       "      <td>BLOATING</td>\n",
       "      <td>BREAST TENDERNESS</td>\n",
       "      <td>ACNE</td>\n",
       "      <td>NaN</td>\n",
       "      <td>NaN</td>\n",
       "      <td>NaN</td>\n",
       "      <td>MENSTURATION</td>\n",
       "    </tr>\n",
       "    <tr>\n",
       "      <th>4</th>\n",
       "      <td>MALE</td>\n",
       "      <td>NaN</td>\n",
       "      <td>NaN</td>\n",
       "      <td>NaN</td>\n",
       "      <td>FEVER</td>\n",
       "      <td>HEADACHE</td>\n",
       "      <td>NAUSEA</td>\n",
       "      <td>CHILLS</td>\n",
       "      <td>CHILLS</td>\n",
       "      <td>EXCESSIVE SWEATING</td>\n",
       "      <td>DIARRHEA</td>\n",
       "      <td>GENERALLY FEELING UNWELL</td>\n",
       "      <td>ANAEMIA</td>\n",
       "      <td>NaN</td>\n",
       "      <td>NaN</td>\n",
       "      <td>NaN</td>\n",
       "      <td>NaN</td>\n",
       "      <td>MALARIA</td>\n",
       "    </tr>\n",
       "  </tbody>\n",
       "</table>\n",
       "</div>"
      ],
      "text/plain": [
       "   Gender  Time(hours)  Previous cycle  No of stooling per day  \\\n",
       "0    MALE         72.0             NaN                     5.0   \n",
       "1  FEMALE         72.0             NaN                     8.0   \n",
       "2    MALE          NaN             NaN                     NaN   \n",
       "3  FEMALE         24.0            28.0                     NaN   \n",
       "4    MALE          NaN             NaN                     NaN   \n",
       "\n",
       "                Symptom 1            Symptom 2         Symptom 3  \\\n",
       "0          ABDOMINAL PAIN      ABDOMINAL PAINS     WATERY FAECES   \n",
       "1          BLOOD IN STOOL  PERSISTENT VOMITING     STOMACHE ACHE   \n",
       "2                   FEVER             HEADACHE            NAUSEA   \n",
       "3  BLOOD FLOW FROM VAGINA          MOOD SWINGS  TROUBLE SLEEPING   \n",
       "4                   FEVER             HEADACHE            NAUSEA   \n",
       "\n",
       "       Symptom 4                Symptom 5           Symptom 6  \\\n",
       "0         NAUSEA                 VOMITING                 NaN   \n",
       "1    WEIGHT LOSS              DEHYDRATION                 NaN   \n",
       "2         CHILLS                   CHILLS  EXCESSIVE SWEATING   \n",
       "3  FOOD CRAVINGS  CRAMPS IN LOWER ABDOMEN                 NaN   \n",
       "4         CHILLS                   CHILLS  EXCESSIVE SWEATING   \n",
       "\n",
       "              Symptom 7                 Symptom 8          Symptom 9  \\\n",
       "0                   NaN                       NaN                NaN   \n",
       "1                   NaN                       NaN                NaN   \n",
       "2              DIARRHEA  GENERALLY FEELING UNWELL            ANAEMIA   \n",
       "3  CRAMPS IN LOWER BACK                  BLOATING  BREAST TENDERNESS   \n",
       "4              DIARRHEA  GENERALLY FEELING UNWELL            ANAEMIA   \n",
       "\n",
       "  Symptom 10 Symptom 11 Symptom 12 Symptom 13     Diagnosis  \n",
       "0        NaN        NaN        NaN        NaN      DIARRHEA  \n",
       "1        NaN        NaN        NaN        NaN      DIARRHEA  \n",
       "2        NaN        NaN        NaN        NaN       MALARIA  \n",
       "3       ACNE        NaN        NaN        NaN  MENSTURATION  \n",
       "4        NaN        NaN        NaN        NaN       MALARIA  "
      ]
     },
     "execution_count": 182,
     "metadata": {},
     "output_type": "execute_result"
    }
   ],
   "source": [
    "data.head()"
   ]
  },
  {
   "cell_type": "code",
   "execution_count": 116,
   "id": "339197f5",
   "metadata": {},
   "outputs": [],
   "source": [
    "from sklearn.preprocessing import LabelEncoder"
   ]
  },
  {
   "cell_type": "code",
   "execution_count": 117,
   "id": "5a0ebfca",
   "metadata": {},
   "outputs": [],
   "source": [
    "cl= ['Gender', 'Time(hours)', 'Previous cycle', 'No of stooling per day',\n",
    "       'Symptom 1', 'Symptom 2', 'Symptom 3', 'Symptom 4', 'Symptom 5',\n",
    "       'Symptom 6', 'Symptom 7', 'Symptom 8', 'Symptom 9', 'Symptom 10',\n",
    "       'Symptom 11', 'Symptom 12', 'Symptom 13', 'Diagnosis']\n",
    "encoder=LabelEncoder()\n",
    "data[cl]=data[cl].apply(encoder.fit_transform)"
   ]
  },
  {
   "cell_type": "code",
   "execution_count": 126,
   "id": "559da114",
   "metadata": {},
   "outputs": [],
   "source": [
    "x=data.drop('Diagnosis',axis=1)\n",
    "y=data['Diagnosis']"
   ]
  },
  {
   "cell_type": "code",
   "execution_count": 129,
   "id": "96fd956b",
   "metadata": {},
   "outputs": [],
   "source": [
    "from sklearn.model_selection import train_test_split\n",
    "x_train,x_test,y_train,y_test=train_test_split(x,y,test_size=0.2,random_state=42)\n",
    "y_train=keras.utils.to_categorical(y_train,num_classes=3)\n",
    "y_test=keras.utils.to_categorical(y_test,num_classes=3)"
   ]
  },
  {
   "cell_type": "code",
   "execution_count": 132,
   "id": "bc7858ef",
   "metadata": {},
   "outputs": [],
   "source": [
    "encoder=LabelEncoder()\n",
    "x=np.array(x).ravel()\n",
    "encoder.fit(x)\n",
    "np.save('classes.npy',encoder.classes_)"
   ]
  },
  {
   "cell_type": "code",
   "execution_count": 130,
   "id": "cde367b6",
   "metadata": {},
   "outputs": [
    {
     "name": "stdout",
     "output_type": "stream",
     "text": [
      "Epoch 1/100\n",
      "25/25 [==============================] - 1s 18ms/step - loss: 4.3604 - accuracy: 0.3900 - val_loss: 1.1612 - val_accuracy: 0.5900\n",
      "Epoch 2/100\n",
      "25/25 [==============================] - 0s 5ms/step - loss: 2.5391 - accuracy: 0.3950 - val_loss: 0.6921 - val_accuracy: 0.7250\n",
      "Epoch 3/100\n",
      "25/25 [==============================] - 0s 4ms/step - loss: 1.7500 - accuracy: 0.4963 - val_loss: 0.5989 - val_accuracy: 0.8250\n",
      "Epoch 4/100\n",
      "25/25 [==============================] - 0s 4ms/step - loss: 1.2716 - accuracy: 0.5688 - val_loss: 0.5432 - val_accuracy: 0.8250\n",
      "Epoch 5/100\n",
      "25/25 [==============================] - 0s 5ms/step - loss: 1.0113 - accuracy: 0.6012 - val_loss: 0.4974 - val_accuracy: 0.7700\n",
      "Epoch 6/100\n",
      "25/25 [==============================] - 0s 5ms/step - loss: 0.8624 - accuracy: 0.6463 - val_loss: 0.4669 - val_accuracy: 0.8550\n",
      "Epoch 7/100\n",
      "25/25 [==============================] - 0s 5ms/step - loss: 0.7966 - accuracy: 0.6700 - val_loss: 0.4334 - val_accuracy: 0.9000\n",
      "Epoch 8/100\n",
      "25/25 [==============================] - 0s 5ms/step - loss: 0.7011 - accuracy: 0.6963 - val_loss: 0.3833 - val_accuracy: 0.9000\n",
      "Epoch 9/100\n",
      "25/25 [==============================] - 0s 5ms/step - loss: 0.6347 - accuracy: 0.7475 - val_loss: 0.3502 - val_accuracy: 0.9000\n",
      "Epoch 10/100\n",
      "25/25 [==============================] - 0s 5ms/step - loss: 0.5631 - accuracy: 0.7625 - val_loss: 0.3140 - val_accuracy: 0.9000\n",
      "Epoch 11/100\n",
      "25/25 [==============================] - 0s 5ms/step - loss: 0.5187 - accuracy: 0.7675 - val_loss: 0.2809 - val_accuracy: 0.9000\n",
      "Epoch 12/100\n",
      "25/25 [==============================] - 0s 5ms/step - loss: 0.4396 - accuracy: 0.8238 - val_loss: 0.2456 - val_accuracy: 0.9000\n",
      "Epoch 13/100\n",
      "25/25 [==============================] - 0s 4ms/step - loss: 0.4176 - accuracy: 0.8487 - val_loss: 0.2125 - val_accuracy: 0.9550\n",
      "Epoch 14/100\n",
      "25/25 [==============================] - 0s 5ms/step - loss: 0.3852 - accuracy: 0.8438 - val_loss: 0.1964 - val_accuracy: 0.9550\n",
      "Epoch 15/100\n",
      "25/25 [==============================] - 0s 5ms/step - loss: 0.3641 - accuracy: 0.8562 - val_loss: 0.1684 - val_accuracy: 1.0000\n",
      "Epoch 16/100\n",
      "25/25 [==============================] - 0s 5ms/step - loss: 0.3363 - accuracy: 0.8662 - val_loss: 0.1490 - val_accuracy: 1.0000\n",
      "Epoch 17/100\n",
      "25/25 [==============================] - 0s 5ms/step - loss: 0.2978 - accuracy: 0.8925 - val_loss: 0.1309 - val_accuracy: 1.0000\n",
      "Epoch 18/100\n",
      "25/25 [==============================] - 0s 6ms/step - loss: 0.2643 - accuracy: 0.9038 - val_loss: 0.1039 - val_accuracy: 1.0000\n",
      "Epoch 19/100\n",
      "25/25 [==============================] - 0s 5ms/step - loss: 0.2525 - accuracy: 0.9075 - val_loss: 0.0953 - val_accuracy: 1.0000\n",
      "Epoch 20/100\n",
      "25/25 [==============================] - 0s 4ms/step - loss: 0.2569 - accuracy: 0.9025 - val_loss: 0.0903 - val_accuracy: 1.0000\n",
      "Epoch 21/100\n",
      "25/25 [==============================] - 0s 5ms/step - loss: 0.2142 - accuracy: 0.9162 - val_loss: 0.0696 - val_accuracy: 1.0000\n",
      "Epoch 22/100\n",
      "25/25 [==============================] - 0s 5ms/step - loss: 0.1978 - accuracy: 0.9162 - val_loss: 0.0592 - val_accuracy: 1.0000\n",
      "Epoch 23/100\n",
      "25/25 [==============================] - 0s 4ms/step - loss: 0.2127 - accuracy: 0.9137 - val_loss: 0.0555 - val_accuracy: 1.0000\n",
      "Epoch 24/100\n",
      "25/25 [==============================] - 0s 4ms/step - loss: 0.2035 - accuracy: 0.9212 - val_loss: 0.0449 - val_accuracy: 1.0000\n",
      "Epoch 25/100\n",
      "25/25 [==============================] - 0s 5ms/step - loss: 0.1599 - accuracy: 0.9500 - val_loss: 0.0396 - val_accuracy: 1.0000\n",
      "Epoch 26/100\n",
      "25/25 [==============================] - 0s 5ms/step - loss: 0.1393 - accuracy: 0.9600 - val_loss: 0.0354 - val_accuracy: 1.0000\n",
      "Epoch 27/100\n",
      "25/25 [==============================] - 0s 5ms/step - loss: 0.1585 - accuracy: 0.9563 - val_loss: 0.0314 - val_accuracy: 1.0000\n",
      "Epoch 28/100\n",
      "25/25 [==============================] - 0s 4ms/step - loss: 0.1545 - accuracy: 0.9513 - val_loss: 0.0335 - val_accuracy: 1.0000\n",
      "Epoch 29/100\n",
      "25/25 [==============================] - 0s 4ms/step - loss: 0.1373 - accuracy: 0.9600 - val_loss: 0.0251 - val_accuracy: 1.0000\n",
      "Epoch 30/100\n",
      "25/25 [==============================] - 0s 5ms/step - loss: 0.1422 - accuracy: 0.9463 - val_loss: 0.0254 - val_accuracy: 1.0000\n",
      "Epoch 31/100\n",
      "25/25 [==============================] - 0s 5ms/step - loss: 0.1294 - accuracy: 0.9575 - val_loss: 0.0212 - val_accuracy: 1.0000\n",
      "Epoch 32/100\n",
      "25/25 [==============================] - 0s 5ms/step - loss: 0.1267 - accuracy: 0.9625 - val_loss: 0.0174 - val_accuracy: 1.0000\n",
      "Epoch 33/100\n",
      "25/25 [==============================] - 0s 4ms/step - loss: 0.1087 - accuracy: 0.9675 - val_loss: 0.0156 - val_accuracy: 1.0000\n",
      "Epoch 34/100\n",
      "25/25 [==============================] - 0s 5ms/step - loss: 0.1167 - accuracy: 0.9638 - val_loss: 0.0138 - val_accuracy: 1.0000\n",
      "Epoch 35/100\n",
      "25/25 [==============================] - 0s 5ms/step - loss: 0.1095 - accuracy: 0.9650 - val_loss: 0.0113 - val_accuracy: 1.0000\n",
      "Epoch 36/100\n",
      "25/25 [==============================] - 0s 5ms/step - loss: 0.1019 - accuracy: 0.9650 - val_loss: 0.0102 - val_accuracy: 1.0000\n",
      "Epoch 37/100\n",
      "25/25 [==============================] - 0s 4ms/step - loss: 0.0812 - accuracy: 0.9712 - val_loss: 0.0107 - val_accuracy: 1.0000\n",
      "Epoch 38/100\n",
      "25/25 [==============================] - 0s 4ms/step - loss: 0.1067 - accuracy: 0.9625 - val_loss: 0.0081 - val_accuracy: 1.0000\n",
      "Epoch 39/100\n",
      "25/25 [==============================] - 0s 4ms/step - loss: 0.0970 - accuracy: 0.9663 - val_loss: 0.0089 - val_accuracy: 1.0000\n",
      "Epoch 40/100\n",
      "25/25 [==============================] - 0s 4ms/step - loss: 0.0833 - accuracy: 0.9812 - val_loss: 0.0077 - val_accuracy: 1.0000\n",
      "Epoch 41/100\n",
      "25/25 [==============================] - 0s 4ms/step - loss: 0.0863 - accuracy: 0.9725 - val_loss: 0.0084 - val_accuracy: 1.0000\n",
      "Epoch 42/100\n",
      "25/25 [==============================] - 0s 5ms/step - loss: 0.0904 - accuracy: 0.9725 - val_loss: 0.0067 - val_accuracy: 1.0000\n",
      "Epoch 43/100\n",
      "25/25 [==============================] - 0s 5ms/step - loss: 0.0731 - accuracy: 0.9750 - val_loss: 0.0052 - val_accuracy: 1.0000\n",
      "Epoch 44/100\n",
      "25/25 [==============================] - 0s 4ms/step - loss: 0.0769 - accuracy: 0.9812 - val_loss: 0.0051 - val_accuracy: 1.0000\n",
      "Epoch 45/100\n",
      "25/25 [==============================] - 0s 4ms/step - loss: 0.0627 - accuracy: 0.9850 - val_loss: 0.0051 - val_accuracy: 1.0000\n",
      "Epoch 46/100\n",
      "25/25 [==============================] - 0s 4ms/step - loss: 0.0666 - accuracy: 0.9750 - val_loss: 0.0037 - val_accuracy: 1.0000\n",
      "Epoch 47/100\n",
      "25/25 [==============================] - 0s 4ms/step - loss: 0.0553 - accuracy: 0.9887 - val_loss: 0.0035 - val_accuracy: 1.0000\n",
      "Epoch 48/100\n",
      "25/25 [==============================] - 0s 5ms/step - loss: 0.0766 - accuracy: 0.9775 - val_loss: 0.0041 - val_accuracy: 1.0000\n",
      "Epoch 49/100\n",
      "25/25 [==============================] - 0s 5ms/step - loss: 0.0468 - accuracy: 0.9887 - val_loss: 0.0030 - val_accuracy: 1.0000\n",
      "Epoch 50/100\n",
      "25/25 [==============================] - 0s 5ms/step - loss: 0.0460 - accuracy: 0.9887 - val_loss: 0.0024 - val_accuracy: 1.0000\n",
      "Epoch 51/100\n",
      "25/25 [==============================] - 0s 4ms/step - loss: 0.0754 - accuracy: 0.9750 - val_loss: 0.0037 - val_accuracy: 1.0000\n",
      "Epoch 52/100\n",
      "25/25 [==============================] - 0s 4ms/step - loss: 0.0612 - accuracy: 0.9787 - val_loss: 0.0027 - val_accuracy: 1.0000\n",
      "Epoch 53/100\n",
      "25/25 [==============================] - 0s 5ms/step - loss: 0.0580 - accuracy: 0.9825 - val_loss: 0.0023 - val_accuracy: 1.0000\n",
      "Epoch 54/100\n",
      "25/25 [==============================] - 0s 5ms/step - loss: 0.0411 - accuracy: 0.9862 - val_loss: 0.0022 - val_accuracy: 1.0000\n",
      "Epoch 55/100\n",
      "25/25 [==============================] - 0s 5ms/step - loss: 0.0440 - accuracy: 0.9837 - val_loss: 0.0019 - val_accuracy: 1.0000\n",
      "Epoch 56/100\n",
      "25/25 [==============================] - 0s 4ms/step - loss: 0.0470 - accuracy: 0.9837 - val_loss: 0.0018 - val_accuracy: 1.0000\n",
      "Epoch 57/100\n",
      "25/25 [==============================] - 0s 5ms/step - loss: 0.0467 - accuracy: 0.9837 - val_loss: 0.0017 - val_accuracy: 1.0000\n",
      "Epoch 58/100\n",
      "25/25 [==============================] - 0s 4ms/step - loss: 0.0528 - accuracy: 0.9837 - val_loss: 0.0022 - val_accuracy: 1.0000\n",
      "Epoch 59/100\n",
      "25/25 [==============================] - 0s 5ms/step - loss: 0.0440 - accuracy: 0.9887 - val_loss: 0.0017 - val_accuracy: 1.0000\n",
      "Epoch 60/100\n",
      "25/25 [==============================] - 0s 4ms/step - loss: 0.0590 - accuracy: 0.9800 - val_loss: 0.0020 - val_accuracy: 1.0000\n",
      "Epoch 61/100\n",
      "25/25 [==============================] - 0s 4ms/step - loss: 0.0427 - accuracy: 0.9875 - val_loss: 0.0019 - val_accuracy: 1.0000\n",
      "Epoch 62/100\n",
      "25/25 [==============================] - 0s 4ms/step - loss: 0.0433 - accuracy: 0.9837 - val_loss: 0.0022 - val_accuracy: 1.0000\n",
      "Epoch 63/100\n",
      "25/25 [==============================] - 0s 5ms/step - loss: 0.0441 - accuracy: 0.9875 - val_loss: 0.0014 - val_accuracy: 1.0000\n",
      "Epoch 64/100\n",
      "25/25 [==============================] - 0s 5ms/step - loss: 0.0405 - accuracy: 0.9900 - val_loss: 0.0015 - val_accuracy: 1.0000\n",
      "Epoch 65/100\n",
      "25/25 [==============================] - 0s 5ms/step - loss: 0.0560 - accuracy: 0.9800 - val_loss: 0.0016 - val_accuracy: 1.0000\n",
      "Epoch 66/100\n",
      "25/25 [==============================] - 0s 4ms/step - loss: 0.0386 - accuracy: 0.9875 - val_loss: 0.0019 - val_accuracy: 1.0000\n",
      "Epoch 67/100\n",
      "25/25 [==============================] - 0s 4ms/step - loss: 0.0400 - accuracy: 0.9900 - val_loss: 0.0013 - val_accuracy: 1.0000\n",
      "Epoch 68/100\n",
      "25/25 [==============================] - 0s 4ms/step - loss: 0.0363 - accuracy: 0.9900 - val_loss: 9.8647e-04 - val_accuracy: 1.0000\n",
      "Epoch 69/100\n",
      "25/25 [==============================] - 0s 4ms/step - loss: 0.0419 - accuracy: 0.9850 - val_loss: 8.0150e-04 - val_accuracy: 1.0000\n",
      "Epoch 70/100\n",
      "25/25 [==============================] - 0s 5ms/step - loss: 0.0305 - accuracy: 0.9925 - val_loss: 8.8937e-04 - val_accuracy: 1.0000\n",
      "Epoch 71/100\n",
      "25/25 [==============================] - 0s 5ms/step - loss: 0.0271 - accuracy: 0.9937 - val_loss: 8.5888e-04 - val_accuracy: 1.0000\n",
      "Epoch 72/100\n",
      "25/25 [==============================] - 0s 4ms/step - loss: 0.0405 - accuracy: 0.9875 - val_loss: 8.0549e-04 - val_accuracy: 1.0000\n",
      "Epoch 73/100\n",
      "25/25 [==============================] - 0s 4ms/step - loss: 0.0279 - accuracy: 0.9875 - val_loss: 8.5753e-04 - val_accuracy: 1.0000\n",
      "Epoch 74/100\n",
      "25/25 [==============================] - 0s 4ms/step - loss: 0.0453 - accuracy: 0.9850 - val_loss: 0.0017 - val_accuracy: 1.0000\n",
      "Epoch 75/100\n",
      "25/25 [==============================] - 0s 5ms/step - loss: 0.0276 - accuracy: 0.9900 - val_loss: 0.0013 - val_accuracy: 1.0000\n",
      "Epoch 76/100\n",
      "25/25 [==============================] - 0s 5ms/step - loss: 0.0165 - accuracy: 0.9975 - val_loss: 6.1343e-04 - val_accuracy: 1.0000\n",
      "Epoch 77/100\n",
      "25/25 [==============================] - 0s 4ms/step - loss: 0.0295 - accuracy: 0.9912 - val_loss: 8.9649e-04 - val_accuracy: 1.0000\n",
      "Epoch 78/100\n",
      "25/25 [==============================] - 0s 4ms/step - loss: 0.0353 - accuracy: 0.9887 - val_loss: 0.0012 - val_accuracy: 1.0000\n",
      "Epoch 79/100\n",
      "25/25 [==============================] - 0s 4ms/step - loss: 0.0250 - accuracy: 0.9937 - val_loss: 6.7385e-04 - val_accuracy: 1.0000\n",
      "Epoch 80/100\n",
      "25/25 [==============================] - 0s 5ms/step - loss: 0.0343 - accuracy: 0.9887 - val_loss: 5.7376e-04 - val_accuracy: 1.0000\n",
      "Epoch 81/100\n",
      "25/25 [==============================] - 0s 6ms/step - loss: 0.0310 - accuracy: 0.9900 - val_loss: 8.2389e-04 - val_accuracy: 1.0000\n",
      "Epoch 82/100\n",
      "25/25 [==============================] - 0s 5ms/step - loss: 0.0224 - accuracy: 0.9962 - val_loss: 5.0513e-04 - val_accuracy: 1.0000\n",
      "Epoch 83/100\n",
      "25/25 [==============================] - 0s 4ms/step - loss: 0.0304 - accuracy: 0.9887 - val_loss: 5.2842e-04 - val_accuracy: 1.0000\n",
      "Epoch 84/100\n",
      "25/25 [==============================] - 0s 4ms/step - loss: 0.0382 - accuracy: 0.9887 - val_loss: 7.4148e-04 - val_accuracy: 1.0000\n",
      "Epoch 85/100\n",
      "25/25 [==============================] - 0s 5ms/step - loss: 0.0228 - accuracy: 0.9937 - val_loss: 5.4540e-04 - val_accuracy: 1.0000\n",
      "Epoch 86/100\n",
      "25/25 [==============================] - 0s 6ms/step - loss: 0.0253 - accuracy: 0.9937 - val_loss: 6.2539e-04 - val_accuracy: 1.0000\n",
      "Epoch 87/100\n",
      "25/25 [==============================] - 0s 5ms/step - loss: 0.0216 - accuracy: 0.9912 - val_loss: 4.7344e-04 - val_accuracy: 1.0000\n",
      "Epoch 88/100\n",
      "25/25 [==============================] - 0s 4ms/step - loss: 0.0217 - accuracy: 0.9950 - val_loss: 5.0917e-04 - val_accuracy: 1.0000\n",
      "Epoch 89/100\n",
      "25/25 [==============================] - 0s 4ms/step - loss: 0.0223 - accuracy: 0.9962 - val_loss: 5.3323e-04 - val_accuracy: 1.0000\n",
      "Epoch 90/100\n",
      "25/25 [==============================] - 0s 4ms/step - loss: 0.0317 - accuracy: 0.9912 - val_loss: 4.9164e-04 - val_accuracy: 1.0000\n",
      "Epoch 91/100\n",
      "25/25 [==============================] - 0s 4ms/step - loss: 0.0252 - accuracy: 0.9937 - val_loss: 5.2168e-04 - val_accuracy: 1.0000\n",
      "Epoch 92/100\n",
      "25/25 [==============================] - 0s 4ms/step - loss: 0.0316 - accuracy: 0.9937 - val_loss: 5.2339e-04 - val_accuracy: 1.0000\n",
      "Epoch 93/100\n",
      "25/25 [==============================] - 0s 4ms/step - loss: 0.0218 - accuracy: 0.9962 - val_loss: 5.6734e-04 - val_accuracy: 1.0000\n",
      "Epoch 94/100\n",
      "25/25 [==============================] - 0s 4ms/step - loss: 0.0269 - accuracy: 0.9925 - val_loss: 6.3170e-04 - val_accuracy: 1.0000\n",
      "Epoch 95/100\n",
      "25/25 [==============================] - 0s 4ms/step - loss: 0.0284 - accuracy: 0.9900 - val_loss: 5.7408e-04 - val_accuracy: 1.0000\n",
      "Epoch 96/100\n",
      "25/25 [==============================] - 0s 4ms/step - loss: 0.0314 - accuracy: 0.9887 - val_loss: 5.1621e-04 - val_accuracy: 1.0000\n",
      "Epoch 97/100\n",
      "25/25 [==============================] - 0s 4ms/step - loss: 0.0230 - accuracy: 0.9937 - val_loss: 4.3341e-04 - val_accuracy: 1.0000\n",
      "Epoch 98/100\n",
      "25/25 [==============================] - 0s 4ms/step - loss: 0.0134 - accuracy: 0.9950 - val_loss: 4.4015e-04 - val_accuracy: 1.0000\n",
      "Epoch 99/100\n",
      "25/25 [==============================] - 0s 4ms/step - loss: 0.0279 - accuracy: 0.9900 - val_loss: 3.5112e-04 - val_accuracy: 1.0000\n",
      "Epoch 100/100\n",
      "25/25 [==============================] - 0s 4ms/step - loss: 0.0141 - accuracy: 0.9962 - val_loss: 3.0606e-04 - val_accuracy: 1.0000\n"
     ]
    },
    {
     "data": {
      "text/plain": [
       "<keras.callbacks.History at 0x147dc2f5210>"
      ]
     },
     "execution_count": 130,
     "metadata": {},
     "output_type": "execute_result"
    }
   ],
   "source": [
    "import keras\n",
    "from keras.models import Sequential\n",
    "from keras.layers import Dense, Dropout, Flatten\n",
    "from keras import backend as K\n",
    "model=Sequential()\n",
    "model.add(Dense(64,activation=\"relu\",input_dim=17))\n",
    "model.add(Dropout(0.5))\n",
    "model.add(Dense(64,activation=\"relu\"))\n",
    "model.add(Dropout(0.5))\n",
    "model.add(Dense(3,activation=\"softmax\"))\n",
    "model.compile(optimizer=keras.optimizers.Adam(learning_rate=0.001),loss=\"categorical_crossentropy\",metrics=[\"accuracy\"])\n",
    "model.fit(x_train,y_train,epochs=100,validation_data=(x_test,y_test),shuffle=True)"
   ]
  },
  {
   "cell_type": "code",
   "execution_count": 133,
   "id": "e70be959",
   "metadata": {},
   "outputs": [],
   "source": [
    "save_path=\"./final_model.h5\"\n",
    "model.save(save_path)\n",
    "model=keras.models.load_model(save_path)"
   ]
  },
  {
   "cell_type": "code",
   "execution_count": 134,
   "id": "99bacae1",
   "metadata": {},
   "outputs": [],
   "source": [
    "from keras.models import load_model\n",
    "model= load_model(r\"C:\\Users\\USER\\Desktop\\Web Apps\\Diagnosis app\\final_model.h5\")"
   ]
  },
  {
   "cell_type": "code",
   "execution_count": 135,
   "id": "71047ced",
   "metadata": {},
   "outputs": [],
   "source": [
    "val=['female',72,0,8,'BLOOD IN STOOL','PERSISTENT VOMITING','STOMACHE ACHE','WEIGHT LOSS','DEHYDRATION',100,100,100,100,100,100,100,100]\n",
    "final=[]\n",
    "for v in val:\n",
    "    if type(v)==str:\n",
    "        v=v.upper()\n",
    "        final.append(v)\n",
    "    else:\n",
    "        final.append(v)\n",
    "        "
   ]
  },
  {
   "cell_type": "code",
   "execution_count": 163,
   "id": "1b139908",
   "metadata": {},
   "outputs": [],
   "source": [
    "encoder=LabelEncoder()\n",
    "encoder.classes_=np.load('classes.npy',allow_pickle=True)"
   ]
  },
  {
   "cell_type": "code",
   "execution_count": 164,
   "id": "60d67a51",
   "metadata": {},
   "outputs": [
    {
     "data": {
      "text/plain": [
       "array([ 0,  1,  2,  3,  4,  5,  6,  7,  8,  9, 10, 11, 12, 13, 14, 15, 16,\n",
       "       17, 18], dtype=int64)"
      ]
     },
     "execution_count": 164,
     "metadata": {},
     "output_type": "execute_result"
    }
   ],
   "source": [
    "encoder.classes_"
   ]
  },
  {
   "cell_type": "code",
   "execution_count": 165,
   "id": "22f0626b",
   "metadata": {},
   "outputs": [],
   "source": [
    "x=encoder.fit_transform(final)"
   ]
  },
  {
   "cell_type": "code",
   "execution_count": 166,
   "id": "000d69ee",
   "metadata": {},
   "outputs": [],
   "source": [
    "x=np.array(x).reshape(1,17)"
   ]
  },
  {
   "cell_type": "code",
   "execution_count": 167,
   "id": "cc484444",
   "metadata": {},
   "outputs": [
    {
     "name": "stdout",
     "output_type": "stream",
     "text": [
      "1/1 [==============================] - 0s 23ms/step\n"
     ]
    }
   ],
   "source": [
    "x=model.predict(x)"
   ]
  },
  {
   "cell_type": "code",
   "execution_count": 168,
   "id": "0270c997",
   "metadata": {},
   "outputs": [
    {
     "data": {
      "text/plain": [
       "array([[0.99396956, 0.00193065, 0.00409972]], dtype=float32)"
      ]
     },
     "execution_count": 168,
     "metadata": {},
     "output_type": "execute_result"
    }
   ],
   "source": [
    "x"
   ]
  },
  {
   "cell_type": "code",
   "execution_count": 172,
   "id": "39843f56",
   "metadata": {},
   "outputs": [],
   "source": [
    "clas=np.argmax(x,axis=1)\n",
    "if clas == 0:\n",
    "    clas='Diarrhea'\n",
    "elif clas == 1:\n",
    "    clas='Malaria'\n",
    "else:\n",
    "    clas=='Mensturation'"
   ]
  },
  {
   "cell_type": "code",
   "execution_count": 173,
   "id": "ea8a09e7",
   "metadata": {},
   "outputs": [
    {
     "name": "stdout",
     "output_type": "stream",
     "text": [
      "Diagnosis is 99.4 % Diarrhea\n"
     ]
    }
   ],
   "source": [
    "print('Diagnosis is',(x[0,0]*100).round(2),'%',clas)"
   ]
  },
  {
   "cell_type": "code",
   "execution_count": 143,
   "id": "d78e8d95",
   "metadata": {},
   "outputs": [
    {
     "data": {
      "text/plain": [
       "array([0], dtype=int64)"
      ]
     },
     "execution_count": 143,
     "metadata": {},
     "output_type": "execute_result"
    }
   ],
   "source": [
    "x"
   ]
  },
  {
   "cell_type": "code",
   "execution_count": null,
   "id": "a4c282ee",
   "metadata": {},
   "outputs": [],
   "source": []
  }
 ],
 "metadata": {
  "kernelspec": {
   "display_name": "Python 3 (ipykernel)",
   "language": "python",
   "name": "python3"
  },
  "language_info": {
   "codemirror_mode": {
    "name": "ipython",
    "version": 3
   },
   "file_extension": ".py",
   "mimetype": "text/x-python",
   "name": "python",
   "nbconvert_exporter": "python",
   "pygments_lexer": "ipython3",
   "version": "3.10.4"
  }
 },
 "nbformat": 4,
 "nbformat_minor": 5
}
