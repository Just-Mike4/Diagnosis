{
 "cells": [
  {
   "cell_type": "code",
   "execution_count": 1270,
   "id": "191bccee",
   "metadata": {},
   "outputs": [],
   "source": [
    "import numpy as np\n",
    "import pandas as pd\n",
    "import keras\n",
    "from keras.models import Sequential\n",
    "from keras.layers import Dense, Dropout, Activation\n",
    "from keras.optimizers import SGD\n",
    "from sklearn.model_selection import train_test_split\n",
    "import tensorflow as tf"
   ]
  },
  {
   "cell_type": "code",
   "execution_count": 1271,
   "id": "20cf42d1",
   "metadata": {},
   "outputs": [],
   "source": [
    "data=pd.read_csv(r'C:\\Users\\USER\\Final model.csv')"
   ]
  },
  {
   "cell_type": "code",
   "execution_count": 1272,
   "id": "edf9800b",
   "metadata": {},
   "outputs": [
    {
     "data": {
      "text/plain": [
       "(1000, 18)"
      ]
     },
     "execution_count": 1272,
     "metadata": {},
     "output_type": "execute_result"
    }
   ],
   "source": [
    "data.shape"
   ]
  },
  {
   "cell_type": "code",
   "execution_count": 1273,
   "id": "8186a0ae",
   "metadata": {
    "scrolled": true
   },
   "outputs": [
    {
     "data": {
      "text/html": [
       "<div>\n",
       "<style scoped>\n",
       "    .dataframe tbody tr th:only-of-type {\n",
       "        vertical-align: middle;\n",
       "    }\n",
       "\n",
       "    .dataframe tbody tr th {\n",
       "        vertical-align: top;\n",
       "    }\n",
       "\n",
       "    .dataframe thead th {\n",
       "        text-align: right;\n",
       "    }\n",
       "</style>\n",
       "<table border=\"1\" class=\"dataframe\">\n",
       "  <thead>\n",
       "    <tr style=\"text-align: right;\">\n",
       "      <th></th>\n",
       "      <th>Gender</th>\n",
       "      <th>Time(hours)</th>\n",
       "      <th>Previous cycle</th>\n",
       "      <th>No of stooling per day</th>\n",
       "      <th>Symptom 1</th>\n",
       "      <th>Symptom 2</th>\n",
       "      <th>Symptom 3</th>\n",
       "      <th>Symptom 4</th>\n",
       "      <th>Symptom 5</th>\n",
       "      <th>Symptom 6</th>\n",
       "      <th>Symptom 7</th>\n",
       "      <th>Symptom 8</th>\n",
       "      <th>Symptom 9</th>\n",
       "      <th>Symptom 10</th>\n",
       "      <th>Symptom 11</th>\n",
       "      <th>Symptom 12</th>\n",
       "      <th>Symptom 13</th>\n",
       "      <th>Diagnosis</th>\n",
       "    </tr>\n",
       "  </thead>\n",
       "  <tbody>\n",
       "    <tr>\n",
       "      <th>0</th>\n",
       "      <td>MALE</td>\n",
       "      <td>72.0</td>\n",
       "      <td>NaN</td>\n",
       "      <td>5.0</td>\n",
       "      <td>ABDOMINAL PAIN</td>\n",
       "      <td>ABDOMINAL PAINS</td>\n",
       "      <td>WATERY FAECES</td>\n",
       "      <td>NAUSEA</td>\n",
       "      <td>VOMITING</td>\n",
       "      <td>NaN</td>\n",
       "      <td>NaN</td>\n",
       "      <td>NaN</td>\n",
       "      <td>NaN</td>\n",
       "      <td>NaN</td>\n",
       "      <td>NaN</td>\n",
       "      <td>NaN</td>\n",
       "      <td>NaN</td>\n",
       "      <td>DIARRHEA</td>\n",
       "    </tr>\n",
       "    <tr>\n",
       "      <th>1</th>\n",
       "      <td>FEMALE</td>\n",
       "      <td>72.0</td>\n",
       "      <td>NaN</td>\n",
       "      <td>8.0</td>\n",
       "      <td>BLOOD IN STOOL</td>\n",
       "      <td>PERSISTENT VOMITING</td>\n",
       "      <td>STOMACHE ACHE</td>\n",
       "      <td>WEIGHT LOSS</td>\n",
       "      <td>DEHYDRATION</td>\n",
       "      <td>NaN</td>\n",
       "      <td>NaN</td>\n",
       "      <td>NaN</td>\n",
       "      <td>NaN</td>\n",
       "      <td>NaN</td>\n",
       "      <td>NaN</td>\n",
       "      <td>NaN</td>\n",
       "      <td>NaN</td>\n",
       "      <td>DIARRHEA</td>\n",
       "    </tr>\n",
       "    <tr>\n",
       "      <th>2</th>\n",
       "      <td>MALE</td>\n",
       "      <td>NaN</td>\n",
       "      <td>NaN</td>\n",
       "      <td>NaN</td>\n",
       "      <td>FEVER</td>\n",
       "      <td>HEADACHE</td>\n",
       "      <td>NAUSEA</td>\n",
       "      <td>CHILLS</td>\n",
       "      <td>CHILLS</td>\n",
       "      <td>EXCESSIVE SWEATING</td>\n",
       "      <td>DIARRHEA</td>\n",
       "      <td>GENERALLY FEELING UNWELL</td>\n",
       "      <td>ANAEMIA</td>\n",
       "      <td>NaN</td>\n",
       "      <td>NaN</td>\n",
       "      <td>NaN</td>\n",
       "      <td>NaN</td>\n",
       "      <td>MALARIA</td>\n",
       "    </tr>\n",
       "    <tr>\n",
       "      <th>3</th>\n",
       "      <td>FEMALE</td>\n",
       "      <td>24.0</td>\n",
       "      <td>28.0</td>\n",
       "      <td>NaN</td>\n",
       "      <td>BLOOD FLOW FROM VAGINA</td>\n",
       "      <td>MOOD SWINGS</td>\n",
       "      <td>TROUBLE SLEEPING</td>\n",
       "      <td>FOOD CRAVINGS</td>\n",
       "      <td>CRAMPS IN LOWER ABDOMEN</td>\n",
       "      <td>NaN</td>\n",
       "      <td>CRAMPS IN LOWER BACK</td>\n",
       "      <td>BLOATING</td>\n",
       "      <td>BREAST TENDERNESS</td>\n",
       "      <td>ACNE</td>\n",
       "      <td>NaN</td>\n",
       "      <td>NaN</td>\n",
       "      <td>NaN</td>\n",
       "      <td>MENSTURATION</td>\n",
       "    </tr>\n",
       "    <tr>\n",
       "      <th>4</th>\n",
       "      <td>MALE</td>\n",
       "      <td>NaN</td>\n",
       "      <td>NaN</td>\n",
       "      <td>NaN</td>\n",
       "      <td>FEVER</td>\n",
       "      <td>HEADACHE</td>\n",
       "      <td>NAUSEA</td>\n",
       "      <td>CHILLS</td>\n",
       "      <td>CHILLS</td>\n",
       "      <td>EXCESSIVE SWEATING</td>\n",
       "      <td>DIARRHEA</td>\n",
       "      <td>GENERALLY FEELING UNWELL</td>\n",
       "      <td>ANAEMIA</td>\n",
       "      <td>NaN</td>\n",
       "      <td>NaN</td>\n",
       "      <td>NaN</td>\n",
       "      <td>NaN</td>\n",
       "      <td>MALARIA</td>\n",
       "    </tr>\n",
       "  </tbody>\n",
       "</table>\n",
       "</div>"
      ],
      "text/plain": [
       "   Gender  Time(hours)  Previous cycle  No of stooling per day  \\\n",
       "0    MALE         72.0             NaN                     5.0   \n",
       "1  FEMALE         72.0             NaN                     8.0   \n",
       "2    MALE          NaN             NaN                     NaN   \n",
       "3  FEMALE         24.0            28.0                     NaN   \n",
       "4    MALE          NaN             NaN                     NaN   \n",
       "\n",
       "                Symptom 1            Symptom 2         Symptom 3  \\\n",
       "0          ABDOMINAL PAIN      ABDOMINAL PAINS     WATERY FAECES   \n",
       "1          BLOOD IN STOOL  PERSISTENT VOMITING     STOMACHE ACHE   \n",
       "2                   FEVER             HEADACHE            NAUSEA   \n",
       "3  BLOOD FLOW FROM VAGINA          MOOD SWINGS  TROUBLE SLEEPING   \n",
       "4                   FEVER             HEADACHE            NAUSEA   \n",
       "\n",
       "       Symptom 4                Symptom 5           Symptom 6  \\\n",
       "0         NAUSEA                 VOMITING                 NaN   \n",
       "1    WEIGHT LOSS              DEHYDRATION                 NaN   \n",
       "2         CHILLS                   CHILLS  EXCESSIVE SWEATING   \n",
       "3  FOOD CRAVINGS  CRAMPS IN LOWER ABDOMEN                 NaN   \n",
       "4         CHILLS                   CHILLS  EXCESSIVE SWEATING   \n",
       "\n",
       "              Symptom 7                 Symptom 8          Symptom 9  \\\n",
       "0                   NaN                       NaN                NaN   \n",
       "1                   NaN                       NaN                NaN   \n",
       "2              DIARRHEA  GENERALLY FEELING UNWELL            ANAEMIA   \n",
       "3  CRAMPS IN LOWER BACK                  BLOATING  BREAST TENDERNESS   \n",
       "4              DIARRHEA  GENERALLY FEELING UNWELL            ANAEMIA   \n",
       "\n",
       "  Symptom 10 Symptom 11 Symptom 12 Symptom 13     Diagnosis  \n",
       "0        NaN        NaN        NaN        NaN      DIARRHEA  \n",
       "1        NaN        NaN        NaN        NaN      DIARRHEA  \n",
       "2        NaN        NaN        NaN        NaN       MALARIA  \n",
       "3       ACNE        NaN        NaN        NaN  MENSTURATION  \n",
       "4        NaN        NaN        NaN        NaN       MALARIA  "
      ]
     },
     "execution_count": 1273,
     "metadata": {},
     "output_type": "execute_result"
    }
   ],
   "source": [
    "data.head()"
   ]
  },
  {
   "cell_type": "code",
   "execution_count": 1274,
   "id": "e9ddf0c5",
   "metadata": {},
   "outputs": [],
   "source": [
    "from sklearn.preprocessing import LabelEncoder"
   ]
  },
  {
   "cell_type": "code",
   "execution_count": 1275,
   "id": "2fe040b4",
   "metadata": {},
   "outputs": [],
   "source": [
    "cl= ['Gender', 'Time(hours)', 'Previous cycle', 'No of stooling per day',\n",
    "       'Symptom 1', 'Symptom 2', 'Symptom 3', 'Symptom 4', 'Symptom 5',\n",
    "       'Symptom 6', 'Symptom 7', 'Symptom 8', 'Symptom 9', 'Symptom 10',\n",
    "       'Symptom 11', 'Symptom 12', 'Symptom 13', 'Diagnosis']\n",
    "encoder=LabelEncoder()\n",
    "data[cl]=data[cl].apply(encoder.fit_transform)"
   ]
  },
  {
   "cell_type": "code",
   "execution_count": 1276,
   "id": "5346a4fa",
   "metadata": {},
   "outputs": [],
   "source": [
    "x=data.drop('Diagnosis',axis=1)\n",
    "y=data['Diagnosis']"
   ]
  },
  {
   "cell_type": "code",
   "execution_count": 1277,
   "id": "58b6c37b",
   "metadata": {},
   "outputs": [],
   "source": [
    "from sklearn.model_selection import train_test_split\n",
    "x_train,x_test,y_train,y_test=train_test_split(x,y,test_size=0.2,random_state=42)\n",
    "y_train=keras.utils.to_categorical(y_train,num_classes=3)\n",
    "y_test=keras.utils.to_categorical(y_test,num_classes=3)"
   ]
  },
  {
   "cell_type": "code",
   "execution_count": 1278,
   "id": "82689749",
   "metadata": {},
   "outputs": [],
   "source": [
    "encoder=LabelEncoder()\n",
    "x=np.array(x).ravel()\n",
    "encoder.fit(x)\n",
    "np.save('class4.npy',encoder.classes_)"
   ]
  },
  {
   "cell_type": "code",
   "execution_count": 1407,
   "id": "fbdf74fd",
   "metadata": {},
   "outputs": [
    {
     "name": "stdout",
     "output_type": "stream",
     "text": [
      "Epoch 1/100\n",
      "25/25 [==============================] - 1s 10ms/step - loss: 3.7058 - accuracy: 0.2975 - val_loss: 2.5143 - val_accuracy: 0.2700\n",
      "Epoch 2/100\n",
      "25/25 [==============================] - 0s 4ms/step - loss: 3.6357 - accuracy: 0.3313 - val_loss: 2.4810 - val_accuracy: 0.2700\n",
      "Epoch 3/100\n",
      "25/25 [==============================] - 0s 3ms/step - loss: 3.8539 - accuracy: 0.2825 - val_loss: 2.4513 - val_accuracy: 0.2700\n",
      "Epoch 4/100\n",
      "25/25 [==============================] - 0s 4ms/step - loss: 3.8328 - accuracy: 0.3100 - val_loss: 2.4194 - val_accuracy: 0.3200\n",
      "Epoch 5/100\n",
      "25/25 [==============================] - 0s 4ms/step - loss: 3.6628 - accuracy: 0.2937 - val_loss: 2.3907 - val_accuracy: 0.3200\n",
      "Epoch 6/100\n",
      "25/25 [==============================] - 0s 4ms/step - loss: 3.8728 - accuracy: 0.3088 - val_loss: 2.3610 - val_accuracy: 0.3200\n",
      "Epoch 7/100\n",
      "25/25 [==============================] - 0s 4ms/step - loss: 3.6025 - accuracy: 0.3075 - val_loss: 2.3318 - val_accuracy: 0.3200\n",
      "Epoch 8/100\n",
      "25/25 [==============================] - 0s 3ms/step - loss: 3.5889 - accuracy: 0.3363 - val_loss: 2.3031 - val_accuracy: 0.3200\n",
      "Epoch 9/100\n",
      "25/25 [==============================] - 0s 4ms/step - loss: 3.7227 - accuracy: 0.3113 - val_loss: 2.2754 - val_accuracy: 0.3200\n",
      "Epoch 10/100\n",
      "25/25 [==============================] - 0s 4ms/step - loss: 3.5678 - accuracy: 0.2925 - val_loss: 2.2455 - val_accuracy: 0.3200\n",
      "Epoch 11/100\n",
      "25/25 [==============================] - 0s 4ms/step - loss: 3.8335 - accuracy: 0.2900 - val_loss: 2.2172 - val_accuracy: 0.3500\n",
      "Epoch 12/100\n",
      "25/25 [==============================] - 0s 4ms/step - loss: 3.7373 - accuracy: 0.2925 - val_loss: 2.1896 - val_accuracy: 0.3500\n",
      "Epoch 13/100\n",
      "25/25 [==============================] - 0s 4ms/step - loss: 3.3962 - accuracy: 0.3038 - val_loss: 2.1630 - val_accuracy: 0.3500\n",
      "Epoch 14/100\n",
      "25/25 [==============================] - 0s 4ms/step - loss: 3.5692 - accuracy: 0.2988 - val_loss: 2.1380 - val_accuracy: 0.3050\n",
      "Epoch 15/100\n",
      "25/25 [==============================] - 0s 4ms/step - loss: 3.4725 - accuracy: 0.3338 - val_loss: 2.1147 - val_accuracy: 0.3050\n",
      "Epoch 16/100\n",
      "25/25 [==============================] - 0s 4ms/step - loss: 3.5496 - accuracy: 0.3125 - val_loss: 2.0942 - val_accuracy: 0.3050\n",
      "Epoch 17/100\n",
      "25/25 [==============================] - 0s 4ms/step - loss: 3.5242 - accuracy: 0.2900 - val_loss: 2.0702 - val_accuracy: 0.3050\n",
      "Epoch 18/100\n",
      "25/25 [==============================] - 0s 3ms/step - loss: 3.2266 - accuracy: 0.3350 - val_loss: 2.0501 - val_accuracy: 0.3050\n",
      "Epoch 19/100\n",
      "25/25 [==============================] - 0s 4ms/step - loss: 3.4060 - accuracy: 0.3262 - val_loss: 2.0302 - val_accuracy: 0.3250\n",
      "Epoch 20/100\n",
      "25/25 [==============================] - 0s 4ms/step - loss: 3.4905 - accuracy: 0.3125 - val_loss: 2.0100 - val_accuracy: 0.3250\n",
      "Epoch 21/100\n",
      "25/25 [==============================] - 0s 5ms/step - loss: 3.3792 - accuracy: 0.3237 - val_loss: 1.9892 - val_accuracy: 0.3250\n",
      "Epoch 22/100\n",
      "25/25 [==============================] - 0s 3ms/step - loss: 3.3834 - accuracy: 0.3038 - val_loss: 1.9689 - val_accuracy: 0.3250\n",
      "Epoch 23/100\n",
      "25/25 [==============================] - 0s 4ms/step - loss: 3.5498 - accuracy: 0.3113 - val_loss: 1.9493 - val_accuracy: 0.3250\n",
      "Epoch 24/100\n",
      "25/25 [==============================] - 0s 5ms/step - loss: 3.4958 - accuracy: 0.2950 - val_loss: 1.9306 - val_accuracy: 0.3250\n",
      "Epoch 25/100\n",
      "25/25 [==============================] - 0s 4ms/step - loss: 3.4666 - accuracy: 0.3075 - val_loss: 1.9128 - val_accuracy: 0.3250\n",
      "Epoch 26/100\n",
      "25/25 [==============================] - 0s 5ms/step - loss: 3.4489 - accuracy: 0.2988 - val_loss: 1.8945 - val_accuracy: 0.3250\n",
      "Epoch 27/100\n",
      "25/25 [==============================] - 0s 5ms/step - loss: 3.3307 - accuracy: 0.2975 - val_loss: 1.8754 - val_accuracy: 0.3250\n",
      "Epoch 28/100\n",
      "25/25 [==============================] - 0s 5ms/step - loss: 3.3292 - accuracy: 0.2962 - val_loss: 1.8574 - val_accuracy: 0.3250\n",
      "Epoch 29/100\n",
      "25/25 [==============================] - 0s 5ms/step - loss: 3.4251 - accuracy: 0.3050 - val_loss: 1.8417 - val_accuracy: 0.3250\n",
      "Epoch 30/100\n",
      "25/25 [==============================] - 0s 4ms/step - loss: 3.2588 - accuracy: 0.3288 - val_loss: 1.8259 - val_accuracy: 0.3250\n",
      "Epoch 31/100\n",
      "25/25 [==============================] - 0s 4ms/step - loss: 3.2160 - accuracy: 0.3162 - val_loss: 1.8092 - val_accuracy: 0.3250\n",
      "Epoch 32/100\n",
      "25/25 [==============================] - 0s 4ms/step - loss: 3.2215 - accuracy: 0.3338 - val_loss: 1.7940 - val_accuracy: 0.3250\n",
      "Epoch 33/100\n",
      "25/25 [==============================] - 0s 4ms/step - loss: 3.1512 - accuracy: 0.3288 - val_loss: 1.7786 - val_accuracy: 0.3750\n",
      "Epoch 34/100\n",
      "25/25 [==============================] - 0s 4ms/step - loss: 3.3521 - accuracy: 0.2988 - val_loss: 1.7637 - val_accuracy: 0.3750\n",
      "Epoch 35/100\n",
      "25/25 [==============================] - 0s 4ms/step - loss: 3.0665 - accuracy: 0.3512 - val_loss: 1.7486 - val_accuracy: 0.3750\n",
      "Epoch 36/100\n",
      "25/25 [==============================] - 0s 3ms/step - loss: 2.9745 - accuracy: 0.3413 - val_loss: 1.7348 - val_accuracy: 0.3750\n",
      "Epoch 37/100\n",
      "25/25 [==============================] - 0s 3ms/step - loss: 2.9241 - accuracy: 0.3375 - val_loss: 1.7223 - val_accuracy: 0.3750\n",
      "Epoch 38/100\n",
      "25/25 [==============================] - 0s 3ms/step - loss: 3.1051 - accuracy: 0.3313 - val_loss: 1.7096 - val_accuracy: 0.3750\n",
      "Epoch 39/100\n",
      "25/25 [==============================] - 0s 3ms/step - loss: 3.2608 - accuracy: 0.3063 - val_loss: 1.6955 - val_accuracy: 0.3750\n",
      "Epoch 40/100\n",
      "25/25 [==============================] - 0s 3ms/step - loss: 2.9436 - accuracy: 0.3462 - val_loss: 1.6825 - val_accuracy: 0.3750\n",
      "Epoch 41/100\n",
      "25/25 [==============================] - 0s 3ms/step - loss: 3.1389 - accuracy: 0.3212 - val_loss: 1.6700 - val_accuracy: 0.3750\n",
      "Epoch 42/100\n",
      "25/25 [==============================] - 0s 3ms/step - loss: 2.9271 - accuracy: 0.3438 - val_loss: 1.6578 - val_accuracy: 0.3750\n",
      "Epoch 43/100\n",
      "25/25 [==============================] - 0s 3ms/step - loss: 3.0222 - accuracy: 0.3125 - val_loss: 1.6453 - val_accuracy: 0.3750\n",
      "Epoch 44/100\n",
      "25/25 [==============================] - 0s 3ms/step - loss: 3.0073 - accuracy: 0.3338 - val_loss: 1.6326 - val_accuracy: 0.3750\n",
      "Epoch 45/100\n",
      "25/25 [==============================] - 0s 3ms/step - loss: 3.0788 - accuracy: 0.3300 - val_loss: 1.6194 - val_accuracy: 0.3750\n",
      "Epoch 46/100\n",
      "25/25 [==============================] - 0s 3ms/step - loss: 2.9960 - accuracy: 0.3113 - val_loss: 1.6066 - val_accuracy: 0.3750\n",
      "Epoch 47/100\n",
      "25/25 [==============================] - 0s 3ms/step - loss: 3.0475 - accuracy: 0.3113 - val_loss: 1.5935 - val_accuracy: 0.3750\n",
      "Epoch 48/100\n",
      "25/25 [==============================] - 0s 4ms/step - loss: 2.9747 - accuracy: 0.3650 - val_loss: 1.5806 - val_accuracy: 0.3750\n",
      "Epoch 49/100\n",
      "25/25 [==============================] - 0s 5ms/step - loss: 2.9297 - accuracy: 0.3413 - val_loss: 1.5700 - val_accuracy: 0.3850\n",
      "Epoch 50/100\n",
      "25/25 [==============================] - 0s 4ms/step - loss: 2.9549 - accuracy: 0.3475 - val_loss: 1.5579 - val_accuracy: 0.3850\n",
      "Epoch 51/100\n",
      "25/25 [==============================] - 0s 3ms/step - loss: 2.7772 - accuracy: 0.3413 - val_loss: 1.5460 - val_accuracy: 0.3850\n",
      "Epoch 52/100\n",
      "25/25 [==============================] - 0s 3ms/step - loss: 2.9399 - accuracy: 0.3537 - val_loss: 1.5337 - val_accuracy: 0.3850\n",
      "Epoch 53/100\n",
      "25/25 [==============================] - 0s 5ms/step - loss: 2.8829 - accuracy: 0.3225 - val_loss: 1.5239 - val_accuracy: 0.3850\n",
      "Epoch 54/100\n",
      "25/25 [==============================] - 0s 4ms/step - loss: 2.8259 - accuracy: 0.3725 - val_loss: 1.5141 - val_accuracy: 0.3850\n",
      "Epoch 55/100\n",
      "25/25 [==============================] - 0s 5ms/step - loss: 2.7881 - accuracy: 0.3713 - val_loss: 1.5047 - val_accuracy: 0.3850\n",
      "Epoch 56/100\n",
      "25/25 [==============================] - 0s 3ms/step - loss: 2.9018 - accuracy: 0.3438 - val_loss: 1.4948 - val_accuracy: 0.3850\n",
      "Epoch 57/100\n",
      "25/25 [==============================] - 0s 3ms/step - loss: 2.7931 - accuracy: 0.3363 - val_loss: 1.4841 - val_accuracy: 0.3850\n",
      "Epoch 58/100\n",
      "25/25 [==============================] - 0s 4ms/step - loss: 2.8272 - accuracy: 0.3288 - val_loss: 1.4731 - val_accuracy: 0.3850\n",
      "Epoch 59/100\n",
      "25/25 [==============================] - 0s 4ms/step - loss: 2.8597 - accuracy: 0.3462 - val_loss: 1.4621 - val_accuracy: 0.3850\n",
      "Epoch 60/100\n",
      "25/25 [==============================] - 0s 4ms/step - loss: 2.7567 - accuracy: 0.3663 - val_loss: 1.4532 - val_accuracy: 0.3850\n",
      "Epoch 61/100\n",
      "25/25 [==============================] - 0s 4ms/step - loss: 2.7380 - accuracy: 0.3363 - val_loss: 1.4424 - val_accuracy: 0.3850\n",
      "Epoch 62/100\n",
      "25/25 [==============================] - 0s 3ms/step - loss: 2.6016 - accuracy: 0.3950 - val_loss: 1.4330 - val_accuracy: 0.3850\n",
      "Epoch 63/100\n",
      "25/25 [==============================] - 0s 3ms/step - loss: 2.7454 - accuracy: 0.3750 - val_loss: 1.4228 - val_accuracy: 0.4300\n",
      "Epoch 64/100\n",
      "25/25 [==============================] - 0s 4ms/step - loss: 2.7283 - accuracy: 0.3575 - val_loss: 1.4141 - val_accuracy: 0.4300\n",
      "Epoch 65/100\n",
      "25/25 [==============================] - 0s 4ms/step - loss: 2.6313 - accuracy: 0.3725 - val_loss: 1.4056 - val_accuracy: 0.4300\n",
      "Epoch 66/100\n",
      "25/25 [==============================] - 0s 3ms/step - loss: 2.6480 - accuracy: 0.3613 - val_loss: 1.3953 - val_accuracy: 0.4300\n",
      "Epoch 67/100\n",
      "25/25 [==============================] - 0s 3ms/step - loss: 2.7661 - accuracy: 0.3550 - val_loss: 1.3868 - val_accuracy: 0.4300\n",
      "Epoch 68/100\n",
      "25/25 [==============================] - 0s 3ms/step - loss: 2.4564 - accuracy: 0.3750 - val_loss: 1.3771 - val_accuracy: 0.4300\n",
      "Epoch 69/100\n",
      "25/25 [==============================] - 0s 3ms/step - loss: 2.7177 - accuracy: 0.3738 - val_loss: 1.3662 - val_accuracy: 0.4300\n",
      "Epoch 70/100\n",
      "25/25 [==============================] - 0s 5ms/step - loss: 2.6217 - accuracy: 0.3675 - val_loss: 1.3565 - val_accuracy: 0.4300\n",
      "Epoch 71/100\n",
      "25/25 [==============================] - 0s 4ms/step - loss: 2.7112 - accuracy: 0.3500 - val_loss: 1.3472 - val_accuracy: 0.4300\n",
      "Epoch 72/100\n",
      "25/25 [==============================] - 0s 4ms/step - loss: 2.4719 - accuracy: 0.4000 - val_loss: 1.3387 - val_accuracy: 0.4300\n",
      "Epoch 73/100\n",
      "25/25 [==============================] - 0s 6ms/step - loss: 2.4797 - accuracy: 0.3837 - val_loss: 1.3302 - val_accuracy: 0.4300\n",
      "Epoch 74/100\n",
      "25/25 [==============================] - 0s 3ms/step - loss: 2.4956 - accuracy: 0.3900 - val_loss: 1.3219 - val_accuracy: 0.4300\n",
      "Epoch 75/100\n",
      "25/25 [==============================] - 0s 5ms/step - loss: 2.5780 - accuracy: 0.3938 - val_loss: 1.3141 - val_accuracy: 0.4300\n",
      "Epoch 76/100\n",
      "25/25 [==============================] - 0s 5ms/step - loss: 2.3455 - accuracy: 0.3963 - val_loss: 1.3059 - val_accuracy: 0.4300\n",
      "Epoch 77/100\n",
      "25/25 [==============================] - 0s 3ms/step - loss: 2.5438 - accuracy: 0.3663 - val_loss: 1.2981 - val_accuracy: 0.4300\n",
      "Epoch 78/100\n",
      "25/25 [==============================] - 0s 3ms/step - loss: 2.3179 - accuracy: 0.3850 - val_loss: 1.2896 - val_accuracy: 0.4300\n",
      "Epoch 79/100\n",
      "25/25 [==============================] - 0s 3ms/step - loss: 2.4642 - accuracy: 0.3775 - val_loss: 1.2822 - val_accuracy: 0.4700\n",
      "Epoch 80/100\n",
      "25/25 [==============================] - 0s 5ms/step - loss: 2.5739 - accuracy: 0.3613 - val_loss: 1.2746 - val_accuracy: 0.4700\n",
      "Epoch 81/100\n",
      "25/25 [==============================] - 0s 5ms/step - loss: 2.6999 - accuracy: 0.3713 - val_loss: 1.2658 - val_accuracy: 0.4700\n",
      "Epoch 82/100\n",
      "25/25 [==============================] - 0s 4ms/step - loss: 2.4161 - accuracy: 0.3837 - val_loss: 1.2580 - val_accuracy: 0.4700\n",
      "Epoch 83/100\n",
      "25/25 [==============================] - 0s 4ms/step - loss: 2.5251 - accuracy: 0.3650 - val_loss: 1.2499 - val_accuracy: 0.4700\n",
      "Epoch 84/100\n",
      "25/25 [==============================] - 0s 4ms/step - loss: 2.4126 - accuracy: 0.3812 - val_loss: 1.2425 - val_accuracy: 0.4700\n",
      "Epoch 85/100\n",
      "25/25 [==============================] - 0s 3ms/step - loss: 2.3049 - accuracy: 0.4013 - val_loss: 1.2352 - val_accuracy: 0.4700\n",
      "Epoch 86/100\n",
      "25/25 [==============================] - 0s 3ms/step - loss: 2.3144 - accuracy: 0.3875 - val_loss: 1.2280 - val_accuracy: 0.4700\n",
      "Epoch 87/100\n",
      "25/25 [==============================] - 0s 3ms/step - loss: 2.4683 - accuracy: 0.3787 - val_loss: 1.2208 - val_accuracy: 0.4700\n",
      "Epoch 88/100\n",
      "25/25 [==============================] - 0s 3ms/step - loss: 2.3202 - accuracy: 0.3913 - val_loss: 1.2136 - val_accuracy: 0.4700\n",
      "Epoch 89/100\n",
      "25/25 [==============================] - 0s 3ms/step - loss: 2.3291 - accuracy: 0.3963 - val_loss: 1.2063 - val_accuracy: 0.4700\n",
      "Epoch 90/100\n",
      "25/25 [==============================] - 0s 5ms/step - loss: 2.2734 - accuracy: 0.4112 - val_loss: 1.1993 - val_accuracy: 0.4700\n",
      "Epoch 91/100\n",
      "25/25 [==============================] - 0s 3ms/step - loss: 2.3299 - accuracy: 0.3837 - val_loss: 1.1920 - val_accuracy: 0.4700\n",
      "Epoch 92/100\n",
      "25/25 [==============================] - 0s 3ms/step - loss: 2.1801 - accuracy: 0.4250 - val_loss: 1.1854 - val_accuracy: 0.4700\n",
      "Epoch 93/100\n",
      "25/25 [==============================] - 0s 3ms/step - loss: 2.3401 - accuracy: 0.3675 - val_loss: 1.1785 - val_accuracy: 0.5150\n",
      "Epoch 94/100\n",
      "25/25 [==============================] - 0s 3ms/step - loss: 2.3604 - accuracy: 0.4000 - val_loss: 1.1724 - val_accuracy: 0.5150\n",
      "Epoch 95/100\n",
      "25/25 [==============================] - 0s 3ms/step - loss: 2.4099 - accuracy: 0.3725 - val_loss: 1.1653 - val_accuracy: 0.5150\n",
      "Epoch 96/100\n",
      "25/25 [==============================] - 0s 3ms/step - loss: 2.3522 - accuracy: 0.4062 - val_loss: 1.1583 - val_accuracy: 0.5150\n",
      "Epoch 97/100\n",
      "25/25 [==============================] - 0s 4ms/step - loss: 2.5158 - accuracy: 0.3950 - val_loss: 1.1522 - val_accuracy: 0.5150\n",
      "Epoch 98/100\n",
      "25/25 [==============================] - 0s 4ms/step - loss: 2.2667 - accuracy: 0.3887 - val_loss: 1.1451 - val_accuracy: 0.5150\n",
      "Epoch 99/100\n",
      "25/25 [==============================] - 0s 3ms/step - loss: 2.2040 - accuracy: 0.4087 - val_loss: 1.1377 - val_accuracy: 0.5150\n",
      "Epoch 100/100\n",
      "25/25 [==============================] - 0s 3ms/step - loss: 2.2555 - accuracy: 0.4087 - val_loss: 1.1309 - val_accuracy: 0.5150\n"
     ]
    },
    {
     "data": {
      "text/plain": [
       "<keras.callbacks.History at 0x147908e64a0>"
      ]
     },
     "execution_count": 1407,
     "metadata": {},
     "output_type": "execute_result"
    }
   ],
   "source": [
    "import keras\n",
    "from keras.models import Sequential\n",
    "from keras.layers import Dense, Dropout, Flatten\n",
    "from keras import backend as K\n",
    "model=Sequential()\n",
    "model.add(Dense(64,activation=\"relu\",input_dim=17))\n",
    "model.add(Dropout(0.5))\n",
    "model.add(Dense(3,activation=\"softmax\"))\n",
    "model.compile(optimizer=keras.optimizers.Adam(learning_rate=1e-5),loss=\"categorical_crossentropy\",metrics=[\"accuracy\"])\n",
    "model.fit(x_train,y_train,epochs=100,validation_data=(x_test,y_test),shuffle=True)"
   ]
  },
  {
   "cell_type": "code",
   "execution_count": 1452,
   "id": "9afa97a2",
   "metadata": {},
   "outputs": [],
   "source": [
    "save_path=\"./final model.h5\"\n",
    "model.save(save_path)"
   ]
  },
  {
   "cell_type": "code",
   "execution_count": 1453,
   "id": "9b19d9f2",
   "metadata": {},
   "outputs": [],
   "source": [
    "from keras.models import load_model\n",
    "model= load_model(r\"C:\\Users\\USER\\final model.h5\")"
   ]
  },
  {
   "cell_type": "code",
   "execution_count": 1454,
   "id": "196738d2",
   "metadata": {},
   "outputs": [],
   "source": [
    "#val=['male',100,100,100,'fever','headache','nausea','chills',100,100,100,100,100,100,100,100,100]\n",
    "val=['MALE','','','','FEVER','HEADACHE','NAUSEA','CHILLS','CHILLS','EXCESSIVE SWEATING','DIARRHEA','GENERALLY FEELING UNWELL','ANAEMIA','','','','']\n",
    "#val=['FEMALE',24.0,28.0,'','BLOOD FLOW FROM VAGINA','MOOD SWINGS','TROUBLE SLEEPING','FOOD CRAVINGS','CRAMPS IN LOWER ABDOMEN','','CRAMPS IN LOWER BACK','BLOATING','BREAST TENDERNESS','ACNE','','','']\n",
    "final=[]\n",
    "for v in val:\n",
    "    if type(v)==str:\n",
    "        v=v.upper()\n",
    "        final.append(v)\n",
    "    else:\n",
    "        final.append(v)\n",
    "        "
   ]
  },
  {
   "cell_type": "code",
   "execution_count": 1455,
   "id": "fc466396",
   "metadata": {
    "scrolled": true
   },
   "outputs": [
    {
     "data": {
      "text/plain": [
       "['MALE',\n",
       " '',\n",
       " '',\n",
       " '',\n",
       " 'FEVER',\n",
       " 'HEADACHE',\n",
       " 'NAUSEA',\n",
       " 'CHILLS',\n",
       " 'CHILLS',\n",
       " 'EXCESSIVE SWEATING',\n",
       " 'DIARRHEA',\n",
       " 'GENERALLY FEELING UNWELL',\n",
       " 'ANAEMIA',\n",
       " '',\n",
       " '',\n",
       " '',\n",
       " '']"
      ]
     },
     "execution_count": 1455,
     "metadata": {},
     "output_type": "execute_result"
    }
   ],
   "source": [
    "final"
   ]
  },
  {
   "cell_type": "code",
   "execution_count": 1456,
   "id": "23198b10",
   "metadata": {},
   "outputs": [],
   "source": [
    "encoder=LabelEncoder()\n",
    "encoder.classes_=np.load('class4.npy',allow_pickle=True)"
   ]
  },
  {
   "cell_type": "code",
   "execution_count": 1457,
   "id": "decab61f",
   "metadata": {
    "scrolled": true
   },
   "outputs": [
    {
     "data": {
      "text/plain": [
       "array([ 0,  1,  2,  3,  4,  5,  6,  7,  8,  9, 10, 11, 12, 13, 14, 15, 16,\n",
       "       17, 18], dtype=int64)"
      ]
     },
     "execution_count": 1457,
     "metadata": {},
     "output_type": "execute_result"
    }
   ],
   "source": [
    "encoder.classes_"
   ]
  },
  {
   "cell_type": "code",
   "execution_count": 1458,
   "id": "75a6c980",
   "metadata": {},
   "outputs": [],
   "source": [
    "x=encoder.fit_transform(final)"
   ]
  },
  {
   "cell_type": "code",
   "execution_count": 1459,
   "id": "18957b7c",
   "metadata": {},
   "outputs": [],
   "source": [
    "x=np.array(x).reshape(1,17)"
   ]
  },
  {
   "cell_type": "code",
   "execution_count": 1460,
   "id": "4652d6e6",
   "metadata": {},
   "outputs": [
    {
     "name": "stdout",
     "output_type": "stream",
     "text": [
      "1/1 [==============================] - 0s 73ms/step\n"
     ]
    }
   ],
   "source": [
    "x=model.predict(x)"
   ]
  },
  {
   "cell_type": "code",
   "execution_count": 1461,
   "id": "86b61775",
   "metadata": {
    "scrolled": true
   },
   "outputs": [
    {
     "data": {
      "text/plain": [
       "array([[0.14354677, 0.7356023 , 0.1208509 ]], dtype=float32)"
      ]
     },
     "execution_count": 1461,
     "metadata": {},
     "output_type": "execute_result"
    }
   ],
   "source": [
    "x"
   ]
  },
  {
   "cell_type": "code",
   "execution_count": 1462,
   "id": "5b88af90",
   "metadata": {},
   "outputs": [],
   "source": [
    "clas=np.argmax(x,axis=1)\n",
    "if clas == 0:\n",
    "    clas='Diarrhea'\n",
    "elif clas == 1:\n",
    "    clas='Malaria'\n",
    "else:\n",
    "    clas='Mensturation'"
   ]
  },
  {
   "cell_type": "code",
   "execution_count": 1463,
   "id": "da21d00c",
   "metadata": {},
   "outputs": [
    {
     "name": "stdout",
     "output_type": "stream",
     "text": [
      "Diagnosis is 73.56 % Malaria\n"
     ]
    }
   ],
   "source": [
    "print('Diagnosis is',(x.max()*100).round(2),'%',clas)"
   ]
  },
  {
   "cell_type": "code",
   "execution_count": null,
   "id": "3c933b1b",
   "metadata": {},
   "outputs": [],
   "source": []
  },
  {
   "cell_type": "code",
   "execution_count": null,
   "id": "4d2114f6",
   "metadata": {},
   "outputs": [],
   "source": []
  },
  {
   "cell_type": "code",
   "execution_count": null,
   "id": "b64934ea",
   "metadata": {},
   "outputs": [],
   "source": []
  }
 ],
 "metadata": {
  "kernelspec": {
   "display_name": "Python 3 (ipykernel)",
   "language": "python",
   "name": "python3"
  },
  "language_info": {
   "codemirror_mode": {
    "name": "ipython",
    "version": 3
   },
   "file_extension": ".py",
   "mimetype": "text/x-python",
   "name": "python",
   "nbconvert_exporter": "python",
   "pygments_lexer": "ipython3",
   "version": "3.10.4"
  }
 },
 "nbformat": 4,
 "nbformat_minor": 5
}
